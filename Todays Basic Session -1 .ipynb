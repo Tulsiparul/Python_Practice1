{
 "cells": [
  {
   "cell_type": "code",
   "execution_count": 2,
   "id": "020f9b0f",
   "metadata": {},
   "outputs": [],
   "source": [
    "##### Comments"
   ]
  },
  {
   "cell_type": "code",
   "execution_count": 5,
   "id": "f2b243ec",
   "metadata": {},
   "outputs": [
    {
     "name": "stdout",
     "output_type": "stream",
     "text": [
      "Hello World\n"
     ]
    }
   ],
   "source": [
    "print(\"Hello World\") #### Print statment is basically  to print the out put of the provider input \n"
   ]
  },
  {
   "cell_type": "code",
   "execution_count": 12,
   "id": "fad7ced0",
   "metadata": {},
   "outputs": [
    {
     "name": "stdout",
     "output_type": "stream",
     "text": [
      "Nitish Weds Tulsi \n"
     ]
    }
   ],
   "source": [
    "print(\"Nitish Weds Tulsi \")"
   ]
  },
  {
   "cell_type": "code",
   "execution_count": null,
   "id": "784c3cf7",
   "metadata": {},
   "outputs": [],
   "source": [
    "#### Rule For Python to write Scripts"
   ]
  },
  {
   "cell_type": "code",
   "execution_count": null,
   "id": "9c153ecf",
   "metadata": {},
   "outputs": [],
   "source": [
    "### Whenever you write any text - you have to give - '',\" \""
   ]
  },
  {
   "cell_type": "code",
   "execution_count": 8,
   "id": "59d62cd8",
   "metadata": {},
   "outputs": [
    {
     "data": {
      "text/plain": [
       "'Python is a very easy Language'"
      ]
     },
     "execution_count": 8,
     "metadata": {},
     "output_type": "execute_result"
    }
   ],
   "source": [
    "\"Python is a very easy Language\""
   ]
  },
  {
   "cell_type": "code",
   "execution_count": 9,
   "id": "398646fc",
   "metadata": {},
   "outputs": [
    {
     "name": "stdout",
     "output_type": "stream",
     "text": [
      "I Love You My KuKu\n"
     ]
    }
   ],
   "source": [
    "print(\"I Love You My KuKu\")"
   ]
  },
  {
   "cell_type": "code",
   "execution_count": 11,
   "id": "16beb2ba",
   "metadata": {},
   "outputs": [
    {
     "data": {
      "text/plain": [
       "'Kavitha is a very naughty girl'"
      ]
     },
     "execution_count": 11,
     "metadata": {},
     "output_type": "execute_result"
    }
   ],
   "source": [
    "\"Kavitha is a very naughty girl\""
   ]
  },
  {
   "cell_type": "code",
   "execution_count": 13,
   "id": "54c3743d",
   "metadata": {},
   "outputs": [
    {
     "name": "stdout",
     "output_type": "stream",
     "text": [
      "Supriya Di is only My Sister\n"
     ]
    }
   ],
   "source": [
    "print(\"Supriya Di is only My Sister\")"
   ]
  },
  {
   "cell_type": "code",
   "execution_count": null,
   "id": "d7dacfc7",
   "metadata": {},
   "outputs": [],
   "source": [
    "### In python you have one important thing which is called as variable (Identifier)"
   ]
  },
  {
   "cell_type": "code",
   "execution_count": 15,
   "id": "627d17c4",
   "metadata": {},
   "outputs": [],
   "source": [
    "a = 10  ## A is a variable which stores 10 in its memory "
   ]
  },
  {
   "cell_type": "code",
   "execution_count": 16,
   "id": "c61eddc6",
   "metadata": {},
   "outputs": [
    {
     "name": "stdout",
     "output_type": "stream",
     "text": [
      "10\n"
     ]
    }
   ],
   "source": [
    "print(a)"
   ]
  },
  {
   "cell_type": "code",
   "execution_count": null,
   "id": "f55c7392",
   "metadata": {},
   "outputs": [],
   "source": [
    "#### To define a variable the rules are -\n",
    "1. a_z, A_Z,\n",
    "2. 0 to 9 but in suffix \n",
    "3. Only _ is allowed no other symbols \n",
    "4. You cannot use Keyword to define a variable \n",
    "5. Python is Case Sensitive"
   ]
  },
  {
   "cell_type": "code",
   "execution_count": 22,
   "id": "fa5190de",
   "metadata": {},
   "outputs": [],
   "source": [
    "Priya  = 15"
   ]
  },
  {
   "cell_type": "code",
   "execution_count": 23,
   "id": "224934f8",
   "metadata": {},
   "outputs": [
    {
     "name": "stdout",
     "output_type": "stream",
     "text": [
      "15\n"
     ]
    }
   ],
   "source": [
    "print(Priya)"
   ]
  },
  {
   "cell_type": "code",
   "execution_count": 31,
   "id": "68b7f383",
   "metadata": {},
   "outputs": [
    {
     "ename": "SyntaxError",
     "evalue": "invalid syntax (<ipython-input-31-2056c5c97273>, line 1)",
     "output_type": "error",
     "traceback": [
      "\u001b[1;36m  File \u001b[1;32m\"<ipython-input-31-2056c5c97273>\"\u001b[1;36m, line \u001b[1;32m1\u001b[0m\n\u001b[1;33m    def = 100\u001b[0m\n\u001b[1;37m        ^\u001b[0m\n\u001b[1;31mSyntaxError\u001b[0m\u001b[1;31m:\u001b[0m invalid syntax\n"
     ]
    }
   ],
   "source": [
    "def = 100"
   ]
  },
  {
   "cell_type": "code",
   "execution_count": 28,
   "id": "3d3dda22",
   "metadata": {},
   "outputs": [],
   "source": [
    "import keyword"
   ]
  },
  {
   "cell_type": "code",
   "execution_count": 30,
   "id": "6790fd38",
   "metadata": {},
   "outputs": [
    {
     "data": {
      "text/plain": [
       "35"
      ]
     },
     "execution_count": 30,
     "metadata": {},
     "output_type": "execute_result"
    }
   ],
   "source": [
    "len(keyword.kwlist)  #### Len is an inbuilt "
   ]
  },
  {
   "cell_type": "code",
   "execution_count": 33,
   "id": "09270ff9",
   "metadata": {},
   "outputs": [],
   "source": [
    "cash = 1500"
   ]
  },
  {
   "cell_type": "code",
   "execution_count": 34,
   "id": "ea9d7afa",
   "metadata": {},
   "outputs": [
    {
     "name": "stdout",
     "output_type": "stream",
     "text": [
      "1500\n"
     ]
    }
   ],
   "source": [
    "print(cash)"
   ]
  },
  {
   "cell_type": "code",
   "execution_count": 35,
   "id": "ba5f46fe",
   "metadata": {},
   "outputs": [],
   "source": [
    "a = 10"
   ]
  },
  {
   "cell_type": "code",
   "execution_count": 36,
   "id": "36f68430",
   "metadata": {},
   "outputs": [
    {
     "name": "stdout",
     "output_type": "stream",
     "text": [
      "Fifteen\n"
     ]
    }
   ],
   "source": [
    "e = \"Fifteen\"\n",
    "print(e)"
   ]
  },
  {
   "cell_type": "code",
   "execution_count": 37,
   "id": "ba911da1",
   "metadata": {},
   "outputs": [
    {
     "data": {
      "text/plain": [
       "20"
      ]
     },
     "execution_count": 37,
     "metadata": {},
     "output_type": "execute_result"
    }
   ],
   "source": [
    "10 * 2"
   ]
  },
  {
   "cell_type": "code",
   "execution_count": 38,
   "id": "cf68d6cd",
   "metadata": {},
   "outputs": [
    {
     "data": {
      "text/plain": [
       "8.666666666666666"
      ]
     },
     "execution_count": 38,
     "metadata": {},
     "output_type": "execute_result"
    }
   ],
   "source": [
    "52/6"
   ]
  },
  {
   "cell_type": "code",
   "execution_count": 40,
   "id": "45426b1e",
   "metadata": {},
   "outputs": [],
   "source": [
    "N = 15 + 65"
   ]
  },
  {
   "cell_type": "code",
   "execution_count": 41,
   "id": "487682ba",
   "metadata": {},
   "outputs": [
    {
     "name": "stdout",
     "output_type": "stream",
     "text": [
      "80\n"
     ]
    }
   ],
   "source": [
    "print(N)"
   ]
  },
  {
   "cell_type": "code",
   "execution_count": 43,
   "id": "a2e08f95",
   "metadata": {},
   "outputs": [
    {
     "data": {
      "text/plain": [
       "16783819"
      ]
     },
     "execution_count": 43,
     "metadata": {},
     "output_type": "execute_result"
    }
   ],
   "source": [
    "7821475 + 8962344"
   ]
  },
  {
   "cell_type": "code",
   "execution_count": 47,
   "id": "5ba17655",
   "metadata": {},
   "outputs": [],
   "source": [
    "a = 10.2 #### Data Type"
   ]
  },
  {
   "cell_type": "code",
   "execution_count": 48,
   "id": "d14f15fe",
   "metadata": {},
   "outputs": [
    {
     "name": "stdout",
     "output_type": "stream",
     "text": [
      "<class 'float'>\n"
     ]
    }
   ],
   "source": [
    "print(type(a))   ##### Python inbuilt function - type() whenever you use python Inbuilt function you have to use ()"
   ]
  },
  {
   "cell_type": "code",
   "execution_count": 52,
   "id": "01c2597a",
   "metadata": {},
   "outputs": [],
   "source": [
    "b = 'Book' "
   ]
  },
  {
   "cell_type": "code",
   "execution_count": 53,
   "id": "dc794fe5",
   "metadata": {},
   "outputs": [
    {
     "name": "stdout",
     "output_type": "stream",
     "text": [
      "<class 'str'>\n"
     ]
    }
   ],
   "source": [
    "print(type(b))"
   ]
  },
  {
   "cell_type": "code",
   "execution_count": 58,
   "id": "d8e1411e",
   "metadata": {},
   "outputs": [],
   "source": [
    "c = False"
   ]
  },
  {
   "cell_type": "code",
   "execution_count": 59,
   "id": "4b82a74d",
   "metadata": {},
   "outputs": [
    {
     "name": "stdout",
     "output_type": "stream",
     "text": [
      "<class 'bool'>\n"
     ]
    }
   ],
   "source": [
    "print(type(c))"
   ]
  },
  {
   "cell_type": "code",
   "execution_count": null,
   "id": "6b5b1059",
   "metadata": {},
   "outputs": [],
   "source": [
    "Data Types - \n",
    "1. Decimal (Integers)\n",
    "2. Float\n",
    "3. Bool\n",
    "4. Bytes\n",
    "5. Bytes arrays\n",
    "6. String \n",
    "7. Complex"
   ]
  },
  {
   "cell_type": "code",
   "execution_count": null,
   "id": "524de602",
   "metadata": {},
   "outputs": [],
   "source": [
    "Data Structures - Continers\n",
    "1. List\n",
    "2. Tuples\n",
    "3. Dictionary\n",
    "4. Set\n",
    "5. Frozen Set\n",
    "6. Range\n",
    "7. None\n",
    "8. Arrays"
   ]
  },
  {
   "cell_type": "code",
   "execution_count": null,
   "id": "81c7aaad",
   "metadata": {},
   "outputs": [],
   "source": [
    "###### Data Types \n",
    "1. Decimals - In python Number or Integers"
   ]
  },
  {
   "cell_type": "code",
   "execution_count": 61,
   "id": "665cd70b",
   "metadata": {},
   "outputs": [
    {
     "data": {
      "text/plain": [
       "int"
      ]
     },
     "execution_count": 61,
     "metadata": {},
     "output_type": "execute_result"
    }
   ],
   "source": [
    "a = 10 #### Decimal\n",
    "type(a)"
   ]
  },
  {
   "cell_type": "code",
   "execution_count": null,
   "id": "16d7b200",
   "metadata": {},
   "outputs": [],
   "source": [
    "In Decimal also there are different types \n",
    "1. Decimal base of 10 - The applicable values are from 0 to 9 \n",
    "2. Binary base of 2 - The applicable values are 0 and 1 It should be prefixed by 0B or 0b \n",
    "3. Octal base of 8 - The allowed digits are 0 to 7 and it should be prefixed by 0o or 0O\n",
    "4. Hexadecimal base of 16 - The allowed digits are 0 to 9 (a-f) it should be prefixed by 0x or 0X"
   ]
  },
  {
   "cell_type": "code",
   "execution_count": 62,
   "id": "bc64d457",
   "metadata": {},
   "outputs": [],
   "source": [
    "a = 15   ##### Decimal Values"
   ]
  },
  {
   "cell_type": "code",
   "execution_count": 63,
   "id": "df2cb633",
   "metadata": {},
   "outputs": [
    {
     "data": {
      "text/plain": [
       "'0b1111'"
      ]
     },
     "execution_count": 63,
     "metadata": {},
     "output_type": "execute_result"
    }
   ],
   "source": [
    "bin(a) ### Dexcimal to Binary Conversion using bin"
   ]
  },
  {
   "cell_type": "code",
   "execution_count": 64,
   "id": "d91ad488",
   "metadata": {},
   "outputs": [],
   "source": [
    "a = 0B101010"
   ]
  },
  {
   "cell_type": "code",
   "execution_count": 65,
   "id": "118627b7",
   "metadata": {},
   "outputs": [
    {
     "name": "stdout",
     "output_type": "stream",
     "text": [
      "42\n"
     ]
    }
   ],
   "source": [
    "print(a)"
   ]
  },
  {
   "cell_type": "code",
   "execution_count": 67,
   "id": "b98d4bca",
   "metadata": {},
   "outputs": [],
   "source": [
    "a = 0x7654  #### Search google  how to convert oct to decimal"
   ]
  },
  {
   "cell_type": "code",
   "execution_count": 68,
   "id": "d0a1bd87",
   "metadata": {},
   "outputs": [
    {
     "data": {
      "text/plain": [
       "30292"
      ]
     },
     "execution_count": 68,
     "metadata": {},
     "output_type": "execute_result"
    }
   ],
   "source": [
    "a"
   ]
  },
  {
   "cell_type": "code",
   "execution_count": 69,
   "id": "0e22b5a8",
   "metadata": {},
   "outputs": [
    {
     "data": {
      "text/plain": [
       "'0o73124'"
      ]
     },
     "execution_count": 69,
     "metadata": {},
     "output_type": "execute_result"
    }
   ],
   "source": [
    "oct(a)"
   ]
  },
  {
   "cell_type": "code",
   "execution_count": 70,
   "id": "fdf983e2",
   "metadata": {},
   "outputs": [
    {
     "data": {
      "text/plain": [
       "'0x7654'"
      ]
     },
     "execution_count": 70,
     "metadata": {},
     "output_type": "execute_result"
    }
   ],
   "source": [
    "hex(a)"
   ]
  },
  {
   "cell_type": "code",
   "execution_count": 71,
   "id": "d2d91b67",
   "metadata": {},
   "outputs": [],
   "source": [
    "a = 0o7654"
   ]
  },
  {
   "cell_type": "code",
   "execution_count": 72,
   "id": "60310113",
   "metadata": {},
   "outputs": [
    {
     "data": {
      "text/plain": [
       "4012"
      ]
     },
     "execution_count": 72,
     "metadata": {},
     "output_type": "execute_result"
    }
   ],
   "source": [
    "a"
   ]
  },
  {
   "cell_type": "code",
   "execution_count": 73,
   "id": "79ff8706",
   "metadata": {},
   "outputs": [],
   "source": [
    "a = 0XFACE"
   ]
  },
  {
   "cell_type": "code",
   "execution_count": 74,
   "id": "6eb0ab70",
   "metadata": {},
   "outputs": [
    {
     "data": {
      "text/plain": [
       "64206"
      ]
     },
     "execution_count": 74,
     "metadata": {},
     "output_type": "execute_result"
    }
   ],
   "source": [
    "a"
   ]
  },
  {
   "cell_type": "code",
   "execution_count": 75,
   "id": "2fd7cfb6",
   "metadata": {},
   "outputs": [
    {
     "data": {
      "text/plain": [
       "'0xface'"
      ]
     },
     "execution_count": 75,
     "metadata": {},
     "output_type": "execute_result"
    }
   ],
   "source": [
    "hex(a)"
   ]
  },
  {
   "cell_type": "code",
   "execution_count": null,
   "id": "bbbcf512",
   "metadata": {},
   "outputs": [],
   "source": []
  }
 ],
 "metadata": {
  "kernelspec": {
   "display_name": "Python 3",
   "language": "python",
   "name": "python3"
  },
  "language_info": {
   "codemirror_mode": {
    "name": "ipython",
    "version": 3
   },
   "file_extension": ".py",
   "mimetype": "text/x-python",
   "name": "python",
   "nbconvert_exporter": "python",
   "pygments_lexer": "ipython3",
   "version": "3.8.8"
  }
 },
 "nbformat": 4,
 "nbformat_minor": 5
}
