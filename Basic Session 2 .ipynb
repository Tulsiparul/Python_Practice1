{
 "cells": [
  {
   "cell_type": "code",
   "execution_count": null,
   "id": "9f101c08",
   "metadata": {},
   "outputs": [],
   "source": [
    "#### Revise once"
   ]
  },
  {
   "cell_type": "code",
   "execution_count": null,
   "id": "71b2f09b",
   "metadata": {},
   "outputs": [],
   "source": [
    "## Java\n",
    "public Class Hello world \n",
    "{\n",
    "    psv main (String[]args)\n",
    "    {\n",
    "        SOP(\"Hello World\");\n",
    "    }\n",
    "}"
   ]
  },
  {
   "cell_type": "code",
   "execution_count": null,
   "id": "67bfab0f",
   "metadata": {},
   "outputs": [],
   "source": [
    "## C \n",
    "voidmain()\n",
    "{\n",
    "    print(\"Hellow world\");\n",
    "}"
   ]
  },
  {
   "cell_type": "code",
   "execution_count": 1,
   "id": "e1914484",
   "metadata": {},
   "outputs": [
    {
     "name": "stdout",
     "output_type": "stream",
     "text": [
      "Hellow World\n"
     ]
    }
   ],
   "source": [
    "## Python\n",
    "print(\"Hellow World\")"
   ]
  },
  {
   "cell_type": "code",
   "execution_count": 2,
   "id": "5524523a",
   "metadata": {},
   "outputs": [
    {
     "name": "stdout",
     "output_type": "stream",
     "text": [
      "30\n"
     ]
    }
   ],
   "source": [
    "a= 10 \n",
    "b= 20\n",
    "c= a+b\n",
    "print(c)"
   ]
  },
  {
   "cell_type": "code",
   "execution_count": null,
   "id": "5338f30f",
   "metadata": {},
   "outputs": [],
   "source": [
    "#### Float Data Type \n",
    " we can use float data type to represent floating point values (decimal values)"
   ]
  },
  {
   "cell_type": "code",
   "execution_count": 3,
   "id": "ccb873c9",
   "metadata": {},
   "outputs": [],
   "source": [
    "f = 1.234"
   ]
  },
  {
   "cell_type": "code",
   "execution_count": 4,
   "id": "de66b4e5",
   "metadata": {},
   "outputs": [
    {
     "data": {
      "text/plain": [
       "float"
      ]
     },
     "execution_count": 4,
     "metadata": {},
     "output_type": "execute_result"
    }
   ],
   "source": [
    "type(f)"
   ]
  },
  {
   "cell_type": "code",
   "execution_count": null,
   "id": "7ef3ef04",
   "metadata": {},
   "outputs": [],
   "source": [
    "#### We can also represent floating values by using exponential form (Scientifc Notation)"
   ]
  },
  {
   "cell_type": "code",
   "execution_count": 5,
   "id": "f328229d",
   "metadata": {},
   "outputs": [],
   "source": [
    "f = 1.2e3  #### we can represent big values in less memory "
   ]
  },
  {
   "cell_type": "code",
   "execution_count": 6,
   "id": "c5e17a9f",
   "metadata": {},
   "outputs": [
    {
     "name": "stdout",
     "output_type": "stream",
     "text": [
      "1200.0\n"
     ]
    }
   ],
   "source": [
    "print(f)"
   ]
  },
  {
   "cell_type": "code",
   "execution_count": 7,
   "id": "a43fbe13",
   "metadata": {},
   "outputs": [],
   "source": [
    "r = 1.3e5"
   ]
  },
  {
   "cell_type": "code",
   "execution_count": 8,
   "id": "d854e008",
   "metadata": {},
   "outputs": [
    {
     "name": "stdout",
     "output_type": "stream",
     "text": [
      "130000.0\n"
     ]
    }
   ],
   "source": [
    "print(r)"
   ]
  },
  {
   "cell_type": "code",
   "execution_count": null,
   "id": "848b78fb",
   "metadata": {},
   "outputs": [],
   "source": [
    "#### Note- we can represent int value in decimal, binary,octal, hexa decimal form. but \n",
    "#### we can represent float values only by using decimal form."
   ]
  },
  {
   "cell_type": "code",
   "execution_count": null,
   "id": "0520b9b0",
   "metadata": {},
   "outputs": [],
   "source": [
    "#### Complex Data Type in python \n",
    "A complex number is in the form of -\n",
    "Real Part Imaginary Part \n",
    "a + bj (j = sqrt(-1))/j2 = -1"
   ]
  },
  {
   "cell_type": "code",
   "execution_count": null,
   "id": "a840b73c",
   "metadata": {},
   "outputs": [],
   "source": [
    "a and b in Complex data type contain integers or floating point values"
   ]
  },
  {
   "cell_type": "code",
   "execution_count": 10,
   "id": "6f7a677b",
   "metadata": {},
   "outputs": [],
   "source": [
    "a = 3 + 5j"
   ]
  },
  {
   "cell_type": "code",
   "execution_count": 11,
   "id": "0d45c976",
   "metadata": {},
   "outputs": [
    {
     "data": {
      "text/plain": [
       "complex"
      ]
     },
     "execution_count": 11,
     "metadata": {},
     "output_type": "execute_result"
    }
   ],
   "source": [
    "type(a)"
   ]
  },
  {
   "cell_type": "code",
   "execution_count": 13,
   "id": "5e088bf0",
   "metadata": {},
   "outputs": [],
   "source": [
    "p = 57 + 8.6j\n",
    "q = 58 + 9.7j"
   ]
  },
  {
   "cell_type": "code",
   "execution_count": 14,
   "id": "c1fd511b",
   "metadata": {},
   "outputs": [],
   "source": [
    "r = p + q"
   ]
  },
  {
   "cell_type": "code",
   "execution_count": 15,
   "id": "9d1af141",
   "metadata": {},
   "outputs": [
    {
     "name": "stdout",
     "output_type": "stream",
     "text": [
      "(115+18.299999999999997j)\n"
     ]
    }
   ],
   "source": [
    "print(r)"
   ]
  },
  {
   "cell_type": "code",
   "execution_count": null,
   "id": "48ab575a",
   "metadata": {},
   "outputs": [],
   "source": [
    "#### In python complex data type has some inbuilt function to retrive \n",
    "#### real and the imaginary part \n",
    "r = 15 + 5.2j"
   ]
  },
  {
   "cell_type": "code",
   "execution_count": 16,
   "id": "ec2684f6",
   "metadata": {},
   "outputs": [
    {
     "data": {
      "text/plain": [
       "115.0"
      ]
     },
     "execution_count": 16,
     "metadata": {},
     "output_type": "execute_result"
    }
   ],
   "source": [
    "r.real"
   ]
  },
  {
   "cell_type": "code",
   "execution_count": 18,
   "id": "461b4445",
   "metadata": {},
   "outputs": [
    {
     "data": {
      "text/plain": [
       "0"
      ]
     },
     "execution_count": 18,
     "metadata": {},
     "output_type": "execute_result"
    }
   ],
   "source": [
    "c.imag"
   ]
  },
  {
   "cell_type": "code",
   "execution_count": null,
   "id": "eb6baeed",
   "metadata": {},
   "outputs": [],
   "source": [
    "## we can use in complex type generally in scientif application another area electrical Engineering applications  "
   ]
  },
  {
   "cell_type": "code",
   "execution_count": null,
   "id": "6556686d",
   "metadata": {},
   "outputs": [],
   "source": [
    "#### Bool Data Type (Logical)\n",
    "### We use this data type to represent boolean values.\n",
    "##### The only allowed values for this data type are\n",
    "### True and False\n",
    "#### Internally python represent True as 1 and False as 0"
   ]
  },
  {
   "cell_type": "code",
   "execution_count": 19,
   "id": "7a6a01cd",
   "metadata": {},
   "outputs": [
    {
     "data": {
      "text/plain": [
       "bool"
      ]
     },
     "execution_count": 19,
     "metadata": {},
     "output_type": "execute_result"
    }
   ],
   "source": [
    "b = True\n",
    "type(b)"
   ]
  },
  {
   "cell_type": "code",
   "execution_count": 20,
   "id": "811bc4b4",
   "metadata": {},
   "outputs": [
    {
     "name": "stdout",
     "output_type": "stream",
     "text": [
      "False\n"
     ]
    }
   ],
   "source": [
    "a = 12\n",
    "b = 15\n",
    "c = a>b\n",
    "print(c)"
   ]
  },
  {
   "cell_type": "code",
   "execution_count": 21,
   "id": "ae974ef1",
   "metadata": {},
   "outputs": [
    {
     "data": {
      "text/plain": [
       "140705477437584"
      ]
     },
     "execution_count": 21,
     "metadata": {},
     "output_type": "execute_result"
    }
   ],
   "source": [
    "#### Address - whenever you create a variable in python it store at a specific locations \n",
    "id(a)  #### Here id is a function to see the address of the variable "
   ]
  },
  {
   "cell_type": "code",
   "execution_count": 22,
   "id": "c758cc7f",
   "metadata": {},
   "outputs": [
    {
     "data": {
      "text/plain": [
       "140705477437680"
      ]
     },
     "execution_count": 22,
     "metadata": {},
     "output_type": "execute_result"
    }
   ],
   "source": [
    "id(b)"
   ]
  },
  {
   "cell_type": "code",
   "execution_count": 23,
   "id": "b94dd008",
   "metadata": {},
   "outputs": [
    {
     "data": {
      "text/plain": [
       "2"
      ]
     },
     "execution_count": 23,
     "metadata": {},
     "output_type": "execute_result"
    }
   ],
   "source": [
    "True + True"
   ]
  },
  {
   "cell_type": "code",
   "execution_count": 24,
   "id": "fae36435",
   "metadata": {},
   "outputs": [
    {
     "data": {
      "text/plain": [
       "1"
      ]
     },
     "execution_count": 24,
     "metadata": {},
     "output_type": "execute_result"
    }
   ],
   "source": [
    "True + False"
   ]
  },
  {
   "cell_type": "code",
   "execution_count": null,
   "id": "421914f6",
   "metadata": {},
   "outputs": [],
   "source": [
    "#### String Data Type "
   ]
  },
  {
   "cell_type": "code",
   "execution_count": null,
   "id": "dab75762",
   "metadata": {},
   "outputs": [],
   "source": [
    "#### A string is a sequence of character enclosed with single and double quotes "
   ]
  },
  {
   "cell_type": "code",
   "execution_count": 26,
   "id": "5da96698",
   "metadata": {},
   "outputs": [],
   "source": [
    "T = \"Nitish\" AS python indexse start from 0"
   ]
  },
  {
   "cell_type": "code",
   "execution_count": null,
   "id": "e6085dd0",
   "metadata": {},
   "outputs": [],
   "source": [
    "### Slice the strings \n",
    "slice  means a peice \n",
    "[] which is also called as slice operator , which can be used to retrieve a parts o string \n",
    "In python - Indexes start from 0"
   ]
  },
  {
   "cell_type": "code",
   "execution_count": 27,
   "id": "ae1496c1",
   "metadata": {},
   "outputs": [
    {
     "data": {
      "text/plain": [
       "'N'"
      ]
     },
     "execution_count": 27,
     "metadata": {},
     "output_type": "execute_result"
    }
   ],
   "source": [
    "T[0]"
   ]
  },
  {
   "cell_type": "code",
   "execution_count": 28,
   "id": "f1d5587e",
   "metadata": {},
   "outputs": [
    {
     "data": {
      "text/plain": [
       "'h'"
      ]
     },
     "execution_count": 28,
     "metadata": {},
     "output_type": "execute_result"
    }
   ],
   "source": [
    "T[5]"
   ]
  },
  {
   "cell_type": "code",
   "execution_count": 29,
   "id": "2bf1e334",
   "metadata": {},
   "outputs": [
    {
     "data": {
      "text/plain": [
       "'h'"
      ]
     },
     "execution_count": 29,
     "metadata": {},
     "output_type": "execute_result"
    }
   ],
   "source": [
    "T[-1]"
   ]
  },
  {
   "cell_type": "code",
   "execution_count": 30,
   "id": "7a8630b8",
   "metadata": {},
   "outputs": [
    {
     "data": {
      "text/plain": [
       "'i'"
      ]
     },
     "execution_count": 30,
     "metadata": {},
     "output_type": "execute_result"
    }
   ],
   "source": [
    "T[-5]"
   ]
  },
  {
   "cell_type": "code",
   "execution_count": 35,
   "id": "64221a24",
   "metadata": {},
   "outputs": [
    {
     "data": {
      "text/plain": [
       "'Nitish'"
      ]
     },
     "execution_count": 35,
     "metadata": {},
     "output_type": "execute_result"
    }
   ],
   "source": [
    "T[:]   #### : to represnt start and stop"
   ]
  },
  {
   "cell_type": "code",
   "execution_count": 36,
   "id": "4b44e4db",
   "metadata": {},
   "outputs": [
    {
     "data": {
      "text/plain": [
       "'ish'"
      ]
     },
     "execution_count": 36,
     "metadata": {},
     "output_type": "execute_result"
    }
   ],
   "source": [
    "T[3:] #### : to represnt start (Inclusive) and stop (Exclusive) : Step "
   ]
  },
  {
   "cell_type": "code",
   "execution_count": 37,
   "id": "e8ac8167",
   "metadata": {},
   "outputs": [],
   "source": [
    "s = \"pythonisveryeasytolearn\""
   ]
  },
  {
   "cell_type": "code",
   "execution_count": 38,
   "id": "991af1c6",
   "metadata": {},
   "outputs": [
    {
     "data": {
      "text/plain": [
       "'ti'"
      ]
     },
     "execution_count": 38,
     "metadata": {},
     "output_type": "execute_result"
    }
   ],
   "source": [
    "s[2:10:4]"
   ]
  },
  {
   "cell_type": "code",
   "execution_count": 39,
   "id": "3b2caaa1",
   "metadata": {},
   "outputs": [
    {
     "data": {
      "text/plain": [
       "'a'"
      ]
     },
     "execution_count": 39,
     "metadata": {},
     "output_type": "execute_result"
    }
   ],
   "source": [
    "s[-10]  ##### Keeping this in mind"
   ]
  },
  {
   "cell_type": "code",
   "execution_count": null,
   "id": "f2b8bec8",
   "metadata": {},
   "outputs": [],
   "source": [
    "#### Can you write a program to reverse the s variable from the back to the front \n"
   ]
  },
  {
   "cell_type": "code",
   "execution_count": 42,
   "id": "fc5bbadc",
   "metadata": {},
   "outputs": [
    {
     "data": {
      "text/plain": [
       "'nraelotysaeyrevsinohtyp'"
      ]
     },
     "execution_count": 42,
     "metadata": {},
     "output_type": "execute_result"
    }
   ],
   "source": [
    "s [::-1]"
   ]
  },
  {
   "cell_type": "code",
   "execution_count": 46,
   "id": "75d29ea9",
   "metadata": {},
   "outputs": [
    {
     "data": {
      "text/plain": [
       "''"
      ]
     },
     "execution_count": 46,
     "metadata": {},
     "output_type": "execute_result"
    }
   ],
   "source": [
    "s[1:-25]"
   ]
  },
  {
   "cell_type": "code",
   "execution_count": null,
   "id": "9b8212a1",
   "metadata": {},
   "outputs": [],
   "source": [
    "#### Mathematical Operator in string"
   ]
  },
  {
   "cell_type": "code",
   "execution_count": null,
   "id": "d2e8462d",
   "metadata": {},
   "outputs": [],
   "source": [
    "1. + operator (Concatenation)\n",
    "2. * operator (repetation)"
   ]
  },
  {
   "cell_type": "code",
   "execution_count": 47,
   "id": "4259b833",
   "metadata": {},
   "outputs": [
    {
     "data": {
      "text/plain": [
       "'KuKuPuchku'"
      ]
     },
     "execution_count": 47,
     "metadata": {},
     "output_type": "execute_result"
    }
   ],
   "source": [
    "\"KuKu\" + \"Puchku\""
   ]
  },
  {
   "cell_type": "code",
   "execution_count": 48,
   "id": "c78a2b7a",
   "metadata": {},
   "outputs": [
    {
     "data": {
      "text/plain": [
       "'KuKuKuKuKuKuKuKuKuKu'"
      ]
     },
     "execution_count": 48,
     "metadata": {},
     "output_type": "execute_result"
    }
   ],
   "source": [
    "'KuKu'*5"
   ]
  },
  {
   "cell_type": "code",
   "execution_count": 49,
   "id": "ec508f29",
   "metadata": {},
   "outputs": [
    {
     "name": "stdout",
     "output_type": "stream",
     "text": [
      "PriyaNeha\n"
     ]
    }
   ],
   "source": [
    "print(\"Priya\" + \"Neha\")"
   ]
  },
  {
   "cell_type": "code",
   "execution_count": null,
   "id": "4309ef85",
   "metadata": {},
   "outputs": [],
   "source": [
    "#### Note - For contatenation (+) compulsory both the string should be str data type \n",
    "#### To use * operator , compulsory one argument should be str other should be int "
   ]
  },
  {
   "cell_type": "code",
   "execution_count": 50,
   "id": "11369378",
   "metadata": {},
   "outputs": [
    {
     "data": {
      "text/plain": [
       "'pythonisveryeasytolearn'"
      ]
     },
     "execution_count": 50,
     "metadata": {},
     "output_type": "execute_result"
    }
   ],
   "source": [
    "s"
   ]
  },
  {
   "cell_type": "code",
   "execution_count": 51,
   "id": "8ce9459a",
   "metadata": {},
   "outputs": [
    {
     "data": {
      "text/plain": [
       "23"
      ]
     },
     "execution_count": 51,
     "metadata": {},
     "output_type": "execute_result"
    }
   ],
   "source": [
    "len(s)"
   ]
  },
  {
   "cell_type": "code",
   "execution_count": 52,
   "id": "2aa4cddb",
   "metadata": {},
   "outputs": [
    {
     "data": {
      "text/plain": [
       "'n'"
      ]
     },
     "execution_count": 52,
     "metadata": {},
     "output_type": "execute_result"
    }
   ],
   "source": [
    "s[22]"
   ]
  },
  {
   "cell_type": "code",
   "execution_count": 53,
   "id": "a64acdaa",
   "metadata": {},
   "outputs": [
    {
     "data": {
      "text/plain": [
       "'pythonisveryeasytolearn'"
      ]
     },
     "execution_count": 53,
     "metadata": {},
     "output_type": "execute_result"
    }
   ],
   "source": [
    "##### For Loops (For iteration we use Loops)\n",
    "s"
   ]
  },
  {
   "cell_type": "code",
   "execution_count": null,
   "id": "b4cbe9bc",
   "metadata": {},
   "outputs": [],
   "source": [
    "##### Basic syntax for loop is \n",
    "for anyvariable in sequence :\n",
    "    expressions \n",
    "    "
   ]
  },
  {
   "cell_type": "code",
   "execution_count": 56,
   "id": "949a7c6b",
   "metadata": {},
   "outputs": [
    {
     "name": "stdout",
     "output_type": "stream",
     "text": [
      "p\n",
      "y\n",
      "t\n",
      "h\n",
      "o\n",
      "n\n",
      "i\n",
      "s\n",
      "v\n",
      "e\n",
      "r\n",
      "y\n",
      "e\n",
      "a\n",
      "s\n",
      "y\n",
      "t\n",
      "o\n",
      "l\n",
      "e\n",
      "a\n",
      "r\n",
      "n\n"
     ]
    }
   ],
   "source": [
    "for x in s:\n",
    "    print(x)"
   ]
  },
  {
   "cell_type": "code",
   "execution_count": 57,
   "id": "a5a124b1",
   "metadata": {},
   "outputs": [
    {
     "name": "stdout",
     "output_type": "stream",
     "text": [
      "Ranjna is a good girl\n"
     ]
    }
   ],
   "source": [
    "r = \"Ranjna is a good girl\"\n",
    "print(r)"
   ]
  },
  {
   "cell_type": "code",
   "execution_count": 58,
   "id": "506a4c9f",
   "metadata": {},
   "outputs": [
    {
     "name": "stdout",
     "output_type": "stream",
     "text": [
      "R\n",
      "a\n",
      "n\n",
      "j\n",
      "n\n",
      "a\n",
      " \n",
      "i\n",
      "s\n",
      " \n",
      "a\n",
      " \n",
      "g\n",
      "o\n",
      "o\n",
      "d\n",
      " \n",
      "g\n",
      "i\n",
      "r\n",
      "l\n"
     ]
    }
   ],
   "source": [
    "for a in r :\n",
    "    print(a)"
   ]
  },
  {
   "cell_type": "code",
   "execution_count": null,
   "id": "5add731f",
   "metadata": {},
   "outputs": [],
   "source": [
    "###### Can you write a program to print the index as well as the values of r variable"
   ]
  },
  {
   "cell_type": "code",
   "execution_count": 61,
   "id": "7668de72",
   "metadata": {},
   "outputs": [
    {
     "data": {
      "text/plain": [
       "'R'"
      ]
     },
     "execution_count": 61,
     "metadata": {},
     "output_type": "execute_result"
    }
   ],
   "source": [
    "r[0]"
   ]
  },
  {
   "cell_type": "code",
   "execution_count": 66,
   "id": "6ae06087",
   "metadata": {},
   "outputs": [
    {
     "name": "stdout",
     "output_type": "stream",
     "text": [
      "R 0\n",
      "a 1\n",
      "n 2\n",
      "j 3\n",
      "n 4\n",
      "a 5\n",
      "  6\n",
      "i 7\n",
      "s 8\n",
      "  9\n",
      "a 10\n",
      "  11\n",
      "g 12\n",
      "o 13\n",
      "o 14\n",
      "d 15\n",
      "  16\n",
      "g 17\n",
      "i 18\n",
      "r 19\n",
      "l 20\n"
     ]
    }
   ],
   "source": [
    "i = 0 \n",
    "for p in r:\n",
    "    print(p,i)\n",
    "    i = i+1"
   ]
  },
  {
   "cell_type": "code",
   "execution_count": 67,
   "id": "abd4b2da",
   "metadata": {},
   "outputs": [],
   "source": [
    "#### Can you write a program taking a variable of strings with length  20 and print both forward and \n",
    "#### backward string with its index"
   ]
  },
  {
   "cell_type": "code",
   "execution_count": 78,
   "id": "64e92d39",
   "metadata": {},
   "outputs": [
    {
     "name": "stdout",
     "output_type": "stream",
     "text": [
      "19\n"
     ]
    }
   ],
   "source": [
    "t = len(x) -1\n",
    "print(t)"
   ]
  },
  {
   "cell_type": "code",
   "execution_count": 72,
   "id": "ff53d836",
   "metadata": {},
   "outputs": [
    {
     "name": "stdout",
     "output_type": "stream",
     "text": [
      "Nitish is a cute guy\n"
     ]
    }
   ],
   "source": [
    "x = \"Nitish is a cute guy\"\n",
    "print(x)"
   ]
  },
  {
   "cell_type": "code",
   "execution_count": 79,
   "id": "13d602a9",
   "metadata": {},
   "outputs": [
    {
     "name": "stdout",
     "output_type": "stream",
     "text": [
      "y 19\n",
      "u 18\n",
      "g 17\n",
      "  16\n",
      "e 15\n",
      "t 14\n",
      "u 13\n",
      "c 12\n",
      "  11\n",
      "a 10\n",
      "  9\n",
      "s 8\n",
      "i 7\n",
      "  6\n",
      "h 5\n",
      "s 4\n",
      "i 3\n",
      "t 2\n",
      "i 1\n",
      "N 0\n"
     ]
    }
   ],
   "source": [
    "for y in x[::-1]:\n",
    "    print(y,t)\n",
    "    t = t-1"
   ]
  },
  {
   "cell_type": "code",
   "execution_count": null,
   "id": "3a5c9fa2",
   "metadata": {},
   "outputs": [],
   "source": [
    "##### Checking membership in string \n",
    "### we can check whether the character or string is the member of another string "
   ]
  },
  {
   "cell_type": "code",
   "execution_count": 81,
   "id": "7f012410",
   "metadata": {},
   "outputs": [],
   "source": [
    "k =\"Krishna Janmashtmi\"\n"
   ]
  },
  {
   "cell_type": "code",
   "execution_count": 82,
   "id": "e0637ab5",
   "metadata": {},
   "outputs": [
    {
     "name": "stdout",
     "output_type": "stream",
     "text": [
      "True\n"
     ]
    }
   ],
   "source": [
    "print('J' in k)"
   ]
  },
  {
   "cell_type": "code",
   "execution_count": null,
   "id": "5895724b",
   "metadata": {},
   "outputs": [],
   "source": [
    "### How will you take input from the user "
   ]
  },
  {
   "cell_type": "code",
   "execution_count": 83,
   "id": "0db2f835",
   "metadata": {},
   "outputs": [
    {
     "name": "stdout",
     "output_type": "stream",
     "text": [
      "Today \n"
     ]
    }
   ],
   "source": [
    "i = input()  #### A inbuilt function in python for taking value from the user "
   ]
  },
  {
   "cell_type": "code",
   "execution_count": 86,
   "id": "24495838",
   "metadata": {},
   "outputs": [
    {
     "name": "stdout",
     "output_type": "stream",
     "text": [
      "Enter your name - Tulsi Pandey\n"
     ]
    }
   ],
   "source": [
    "name = input(\"Enter your name - \") #### By default taking input is always string data type"
   ]
  },
  {
   "cell_type": "code",
   "execution_count": 88,
   "id": "645f22aa",
   "metadata": {},
   "outputs": [
    {
     "data": {
      "text/plain": [
       "str"
      ]
     },
     "execution_count": 88,
     "metadata": {},
     "output_type": "execute_result"
    }
   ],
   "source": [
    "type(name)"
   ]
  },
  {
   "cell_type": "code",
   "execution_count": 89,
   "id": "ecec93c2",
   "metadata": {},
   "outputs": [
    {
     "name": "stdout",
     "output_type": "stream",
     "text": [
      "Enter your mobile number88857207774\n"
     ]
    }
   ],
   "source": [
    "mobile_no = int(input(\"Enter your mobile number\"))"
   ]
  },
  {
   "cell_type": "code",
   "execution_count": 90,
   "id": "263a9613",
   "metadata": {},
   "outputs": [
    {
     "data": {
      "text/plain": [
       "int"
      ]
     },
     "execution_count": 90,
     "metadata": {},
     "output_type": "execute_result"
    }
   ],
   "source": [
    "type(mobile_no)"
   ]
  },
  {
   "cell_type": "code",
   "execution_count": null,
   "id": "a5a34a97",
   "metadata": {},
   "outputs": [],
   "source": [
    "### Can you write a program to take from the user - name, address, age, phn no, print \n",
    "#### all the input properly with proper text "
   ]
  },
  {
   "cell_type": "code",
   "execution_count": 91,
   "id": "90fdd821",
   "metadata": {},
   "outputs": [
    {
     "name": "stdout",
     "output_type": "stream",
     "text": [
      "Enter your name - Priya Pandey\n",
      "The name of the user is Priya Pandey\n"
     ]
    }
   ],
   "source": [
    "n = input(\"Enter your name - \")\n",
    "print(\"The name of the user is\", n)"
   ]
  },
  {
   "cell_type": "code",
   "execution_count": 92,
   "id": "d460d64b",
   "metadata": {},
   "outputs": [
    {
     "name": "stdout",
     "output_type": "stream",
     "text": [
      "Address - 99 Hostel, Ameerpet\n",
      "The address of the user is 99 Hostel, Ameerpet\n"
     ]
    }
   ],
   "source": [
    "n = input(\"Address - \")\n",
    "print(\"The address of the user is\", n)"
   ]
  },
  {
   "cell_type": "code",
   "execution_count": 98,
   "id": "3a465689",
   "metadata": {},
   "outputs": [
    {
     "name": "stdout",
     "output_type": "stream",
     "text": [
      "Enter your age in years -25\n",
      "The age is 25 years 5\n"
     ]
    }
   ],
   "source": [
    "age = int(input(\"Enter your age in years -\"))\n",
    "print(f\"The age is {age} years\", n)  ### Formatted printing"
   ]
  },
  {
   "cell_type": "code",
   "execution_count": 99,
   "id": "5af75cf3",
   "metadata": {},
   "outputs": [
    {
     "name": "stdout",
     "output_type": "stream",
     "text": [
      "Enter your phn no - 8885720774\n",
      "The phn no of the user is 8885720774\n"
     ]
    }
   ],
   "source": [
    "n = input(\"Enter your phn no - \")\n",
    "print(\"The phn no of the user is\", n)"
   ]
  },
  {
   "cell_type": "code",
   "execution_count": 95,
   "id": "b3346dc5",
   "metadata": {},
   "outputs": [
    {
     "name": "stdout",
     "output_type": "stream",
     "text": [
      "Enter your name - Pihu Dubey\n",
      "Pihu Dubey is good girl\n"
     ]
    }
   ],
   "source": [
    "n = input(\"Enter your name - \")\n",
    "print(f\"{n} is good girl\")"
   ]
  },
  {
   "cell_type": "code",
   "execution_count": null,
   "id": "88fbc6a4",
   "metadata": {},
   "outputs": [],
   "source": [
    "##### Removing Spaces from the string \n",
    "1. rstrip() - To remove spaces from the right side\n",
    "2. lstrip() - To remove spaces from the left side\n",
    "3. strip() - To remove spaces from both sides"
   ]
  },
  {
   "cell_type": "code",
   "execution_count": 101,
   "id": "4529d8f5",
   "metadata": {},
   "outputs": [
    {
     "name": "stdout",
     "output_type": "stream",
     "text": [
      "Enter your city nameHyderabad\n",
      "Hyderabad\n",
      "Hyderabad\n"
     ]
    }
   ],
   "source": [
    "city = input(\"Enter your city name\")\n",
    "c = city.strip()\n",
    "print(city)\n",
    "print(c)"
   ]
  },
  {
   "cell_type": "code",
   "execution_count": null,
   "id": "99b1141b",
   "metadata": {},
   "outputs": [],
   "source": [
    "#### Replacing a string with a another string \n",
    "s.replace(oldstring, newstring)"
   ]
  },
  {
   "cell_type": "code",
   "execution_count": 102,
   "id": "6ad47ec8",
   "metadata": {},
   "outputs": [],
   "source": [
    "s = \"Learning Python is very easy\""
   ]
  },
  {
   "cell_type": "code",
   "execution_count": 105,
   "id": "7cb959a3",
   "metadata": {},
   "outputs": [
    {
     "name": "stdout",
     "output_type": "stream",
     "text": [
      "Learning Python is very easy\n",
      "Learning Java is very easy\n"
     ]
    }
   ],
   "source": [
    "s1 = s.replace(\"Python\", \"Java\")\n",
    "print(s)\n",
    "print(s1)"
   ]
  },
  {
   "cell_type": "code",
   "execution_count": null,
   "id": "35d43b93",
   "metadata": {},
   "outputs": [],
   "source": [
    "#### Splitting of string "
   ]
  },
  {
   "cell_type": "code",
   "execution_count": null,
   "id": "1b91b3f6",
   "metadata": {},
   "outputs": [],
   "source": [
    "split(#### seprater)"
   ]
  },
  {
   "cell_type": "code",
   "execution_count": 110,
   "id": "f3d873ac",
   "metadata": {},
   "outputs": [],
   "source": [
    "s = \"Python-software-foundation\""
   ]
  },
  {
   "cell_type": "code",
   "execution_count": 111,
   "id": "3e2b8532",
   "metadata": {},
   "outputs": [
    {
     "name": "stdout",
     "output_type": "stream",
     "text": [
      "['Python', 'software', 'foundation']\n"
     ]
    }
   ],
   "source": [
    "l = s.split(sep = '-')\n",
    "print(l)"
   ]
  },
  {
   "cell_type": "code",
   "execution_count": null,
   "id": "a7407db1",
   "metadata": {},
   "outputs": [],
   "source": [
    "### Joining of Strings "
   ]
  },
  {
   "cell_type": "code",
   "execution_count": null,
   "id": "cf380539",
   "metadata": {},
   "outputs": [],
   "source": [
    "### We can join group of string (list of tuple) wrt to a given seprator"
   ]
  },
  {
   "cell_type": "code",
   "execution_count": null,
   "id": "34f8b4d3",
   "metadata": {},
   "outputs": [],
   "source": [
    "#### Formatting of Strings"
   ]
  },
  {
   "cell_type": "code",
   "execution_count": 125,
   "id": "c7043abc",
   "metadata": {},
   "outputs": [],
   "source": [
    "name = \"Sudha\"\n",
    "salary = 250000\n",
    "Age = 50"
   ]
  },
  {
   "cell_type": "code",
   "execution_count": 126,
   "id": "2a3c21d1",
   "metadata": {},
   "outputs": [
    {
     "name": "stdout",
     "output_type": "stream",
     "text": [
      "Sudha's salary is 250000 and his age is 50\n"
     ]
    }
   ],
   "source": [
    "print(\"{}'s salary is {} and his age is {}\".format(name, salary, Age))"
   ]
  },
  {
   "cell_type": "code",
   "execution_count": 127,
   "id": "bdea4831",
   "metadata": {},
   "outputs": [
    {
     "name": "stdout",
     "output_type": "stream",
     "text": [
      "250000's salary is Sudha and his age is 50\n"
     ]
    }
   ],
   "source": [
    "print(\"{1}'s salary is {0} and his age is {2}\".format(name, salary, Age))"
   ]
  },
  {
   "cell_type": "code",
   "execution_count": null,
   "id": "72446149",
   "metadata": {},
   "outputs": [],
   "source": [
    "#### Assignment Deck with - Pdf"
   ]
  },
  {
   "cell_type": "code",
   "execution_count": null,
   "id": "235bf036",
   "metadata": {},
   "outputs": [],
   "source": [
    "##You have to build a form taking from the user - Exam form , Voter form\n",
    "### You have a build a calculator"
   ]
  },
  {
   "cell_type": "code",
   "execution_count": 128,
   "id": "09c658f8",
   "metadata": {},
   "outputs": [
    {
     "name": "stdout",
     "output_type": "stream",
     "text": [
      "Enter 1st number45\n",
      "Enter 2nd number65\n",
      "The addition is 110\n"
     ]
    }
   ],
   "source": [
    "a = int(input(\"Enter 1st number\"))\n",
    "b = int(input(\"Enter 2nd number\"))\n",
    "c = a + b\n",
    "print(f\"The addition is {c}\")"
   ]
  },
  {
   "cell_type": "code",
   "execution_count": 131,
   "id": "a7343c65",
   "metadata": {},
   "outputs": [
    {
     "name": "stdout",
     "output_type": "stream",
     "text": [
      "Enter 1st number54\n",
      "Enter 2nd number65\n",
      "The substraction is -11\n"
     ]
    }
   ],
   "source": [
    "a = int(input(\"Enter 1st number\"))\n",
    "b = int(input(\"Enter 2nd number\"))\n",
    "c = a - b\n",
    "print(f\"The substraction is {c}\")"
   ]
  },
  {
   "cell_type": "code",
   "execution_count": 132,
   "id": "adb27e64",
   "metadata": {},
   "outputs": [
    {
     "name": "stdout",
     "output_type": "stream",
     "text": [
      "Enter 1st number45\n",
      "Enter 2nd number69\n",
      "The multiplication is 3105\n"
     ]
    }
   ],
   "source": [
    "a = int(input(\"Enter 1st number\"))\n",
    "b = int(input(\"Enter 2nd number\"))\n",
    "c = a * b\n",
    "print(f\"The multiplication is {c}\")"
   ]
  },
  {
   "cell_type": "code",
   "execution_count": 133,
   "id": "23ec502b",
   "metadata": {},
   "outputs": [
    {
     "name": "stdout",
     "output_type": "stream",
     "text": [
      "Enter 1st number789\n",
      "Enter 2nd number4\n",
      "The Division is 197.25\n"
     ]
    }
   ],
   "source": [
    "a = int(input(\"Enter 1st number\"))\n",
    "b = int(input(\"Enter 2nd number\"))\n",
    "c = a / b\n",
    "print(f\"The Division is {c}\")"
   ]
  },
  {
   "cell_type": "code",
   "execution_count": null,
   "id": "ed045b16",
   "metadata": {},
   "outputs": [],
   "source": []
  }
 ],
 "metadata": {
  "kernelspec": {
   "display_name": "Python 3",
   "language": "python",
   "name": "python3"
  },
  "language_info": {
   "codemirror_mode": {
    "name": "ipython",
    "version": 3
   },
   "file_extension": ".py",
   "mimetype": "text/x-python",
   "name": "python",
   "nbconvert_exporter": "python",
   "pygments_lexer": "ipython3",
   "version": "3.8.8"
  }
 },
 "nbformat": 4,
 "nbformat_minor": 5
}
