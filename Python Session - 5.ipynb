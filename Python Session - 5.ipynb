{
 "cells": [
  {
   "cell_type": "code",
   "execution_count": 1,
   "id": "917148e2",
   "metadata": {},
   "outputs": [
    {
     "ename": "SyntaxError",
     "evalue": "invalid syntax (<ipython-input-1-4322c99d7c5f>, line 7)",
     "output_type": "error",
     "traceback": [
      "\u001b[1;36m  File \u001b[1;32m\"<ipython-input-1-4322c99d7c5f>\"\u001b[1;36m, line \u001b[1;32m7\u001b[0m\n\u001b[1;33m    Duplicate keys are not allowed but values can be duplicated\u001b[0m\n\u001b[1;37m              ^\u001b[0m\n\u001b[1;31mSyntaxError\u001b[0m\u001b[1;31m:\u001b[0m invalid syntax\n"
     ]
    }
   ],
   "source": [
    "#### Dictonary Data Structure \n",
    "### List, Tuple and Set represent a group of indivisual object with single entity\n",
    "### If we want to represent a group of objecta as key and value pairs \n",
    "#### then we should go for Directory...\n",
    "\n",
    "\n",
    "Duplicate keys are not allowed but values can be duplicated \n",
    "Hetrogenous object are allowed for both key and value\n",
    "Insertion order is not preserved \n",
    "Dictionaries are mutable \n",
    "Dictonaries are dynamic\n",
    "Indexing and slicing concepts are not applicable \n",
    "It represent by curly braces {} with key and value pair \n",
    "## Note:-In C++ and Java Dict concept are known as Map,In Ruby and pearl its known as Hash"
   ]
  },
  {
   "cell_type": "code",
   "execution_count": null,
   "id": "ef19aaa9",
   "metadata": {},
   "outputs": [],
   "source": [
    "d = {}\n",
    "type(d)"
   ]
  },
  {
   "cell_type": "code",
   "execution_count": null,
   "id": "9b2cd912",
   "metadata": {},
   "outputs": [],
   "source": [
    "d[100] = \"Nitish\"\n",
    "d[200] = \"Priya\"\n",
    "d[300] = \"Neha\""
   ]
  },
  {
   "cell_type": "code",
   "execution_count": null,
   "id": "7c76e55d",
   "metadata": {},
   "outputs": [],
   "source": [
    "print(d)"
   ]
  },
  {
   "cell_type": "code",
   "execution_count": 2,
   "id": "e9e8885d",
   "metadata": {},
   "outputs": [
    {
     "ename": "NameError",
     "evalue": "name 'd' is not defined",
     "output_type": "error",
     "traceback": [
      "\u001b[1;31m---------------------------------------------------------------------------\u001b[0m",
      "\u001b[1;31mNameError\u001b[0m                                 Traceback (most recent call last)",
      "\u001b[1;32m<ipython-input-2-afc60ed847da>\u001b[0m in \u001b[0;36m<module>\u001b[1;34m\u001b[0m\n\u001b[0;32m      1\u001b[0m \u001b[1;31m### How to access Data from the Dictionary\u001b[0m\u001b[1;33m\u001b[0m\u001b[1;33m\u001b[0m\u001b[1;33m\u001b[0m\u001b[0m\n\u001b[1;32m----> 2\u001b[1;33m \u001b[0md\u001b[0m\u001b[1;33m\u001b[0m\u001b[1;33m\u001b[0m\u001b[0m\n\u001b[0m",
      "\u001b[1;31mNameError\u001b[0m: name 'd' is not defined"
     ]
    }
   ],
   "source": [
    "### How to access Data from the Dictionary\n",
    "d"
   ]
  },
  {
   "cell_type": "code",
   "execution_count": null,
   "id": "1162f1f5",
   "metadata": {},
   "outputs": [],
   "source": [
    "d[200]"
   ]
  },
  {
   "cell_type": "code",
   "execution_count": null,
   "id": "d9dc8b13",
   "metadata": {},
   "outputs": [],
   "source": [
    "d[400]"
   ]
  },
  {
   "cell_type": "code",
   "execution_count": null,
   "id": "8d530246",
   "metadata": {},
   "outputs": [],
   "source": [
    "## We can prevent this by checking whether the key is already available or not by using has_key() - python 2\n",
    "#### Hence we have to use in operator to check "
   ]
  },
  {
   "cell_type": "code",
   "execution_count": null,
   "id": "08b538a6",
   "metadata": {},
   "outputs": [],
   "source": [
    "if 400 in d:\n",
    "    print(d[400])"
   ]
  },
  {
   "cell_type": "code",
   "execution_count": null,
   "id": "49e38c86",
   "metadata": {},
   "outputs": [],
   "source": [
    "#### Write a program to enter name and percentage marks in a dict and display information on screen (Keep Trying)"
   ]
  },
  {
   "cell_type": "code",
   "execution_count": null,
   "id": "280c67f0",
   "metadata": {},
   "outputs": [],
   "source": [
    "n=(input(\"Enter name of the student\"))"
   ]
  },
  {
   "cell_type": "code",
   "execution_count": null,
   "id": "e20ecf2d",
   "metadata": {},
   "outputs": [],
   "source": [
    "n=int(input(\"Enter percentage\"))"
   ]
  },
  {
   "cell_type": "code",
   "execution_count": null,
   "id": "fcdab3b9",
   "metadata": {},
   "outputs": [],
   "source": [
    "#### How to update your Dict\n",
    "d"
   ]
  },
  {
   "cell_type": "code",
   "execution_count": null,
   "id": "268031b3",
   "metadata": {},
   "outputs": [],
   "source": [
    "d[400] = \"Sudha\""
   ]
  },
  {
   "cell_type": "code",
   "execution_count": null,
   "id": "428cc31d",
   "metadata": {},
   "outputs": [],
   "source": [
    "d"
   ]
  },
  {
   "cell_type": "code",
   "execution_count": null,
   "id": "8eade651",
   "metadata": {},
   "outputs": [],
   "source": [
    "### How to delete elements from dict\n",
    "## del d[key]\n",
    "del d[200]"
   ]
  },
  {
   "cell_type": "code",
   "execution_count": null,
   "id": "046b4e7c",
   "metadata": {},
   "outputs": [],
   "source": [
    "d"
   ]
  },
  {
   "cell_type": "code",
   "execution_count": null,
   "id": "621699df",
   "metadata": {},
   "outputs": [],
   "source": [
    "d.clear()   ### will remove all the entries"
   ]
  },
  {
   "cell_type": "code",
   "execution_count": null,
   "id": "cbe9f6e7",
   "metadata": {},
   "outputs": [],
   "source": [
    "print(d)"
   ]
  },
  {
   "cell_type": "code",
   "execution_count": null,
   "id": "c57682cd",
   "metadata": {},
   "outputs": [],
   "source": [
    "del d"
   ]
  },
  {
   "cell_type": "code",
   "execution_count": null,
   "id": "63f76dcd",
   "metadata": {},
   "outputs": [],
   "source": [
    "print(d)"
   ]
  },
  {
   "cell_type": "code",
   "execution_count": null,
   "id": "da5807b1",
   "metadata": {},
   "outputs": [],
   "source": [
    "d"
   ]
  },
  {
   "cell_type": "code",
   "execution_count": null,
   "id": "24390308",
   "metadata": {},
   "outputs": [],
   "source": [
    "#### Some Important Function"
   ]
  },
  {
   "cell_type": "code",
   "execution_count": null,
   "id": "38a3d189",
   "metadata": {},
   "outputs": [],
   "source": [
    "1. dict()"
   ]
  },
  {
   "cell_type": "code",
   "execution_count": null,
   "id": "3f622c55",
   "metadata": {},
   "outputs": [],
   "source": [
    "d = dict()\n",
    "print(type(d))\n",
    "print(d)"
   ]
  },
  {
   "cell_type": "code",
   "execution_count": null,
   "id": "184366e5",
   "metadata": {},
   "outputs": [],
   "source": [
    "d = dict({100:\"kuku\",200:\"neha\"})\n",
    "print(d)"
   ]
  },
  {
   "cell_type": "code",
   "execution_count": null,
   "id": "94dc5c83",
   "metadata": {},
   "outputs": [],
   "source": [
    "len(d)"
   ]
  },
  {
   "cell_type": "code",
   "execution_count": null,
   "id": "4bc3eea9",
   "metadata": {},
   "outputs": [],
   "source": [
    "### get()\n",
    "## To get the values associated with keys\n",
    "\n",
    "d.get(key)\n",
    "#### if the key is available, then returns the valus otherwise return None =. It wont rise any error"
   ]
  },
  {
   "cell_type": "code",
   "execution_count": null,
   "id": "e715ae2f",
   "metadata": {},
   "outputs": [],
   "source": [
    "d.get(100)"
   ]
  },
  {
   "cell_type": "code",
   "execution_count": null,
   "id": "a193d6d3",
   "metadata": {},
   "outputs": [],
   "source": [
    "d.get(200,\"neha\")"
   ]
  },
  {
   "cell_type": "code",
   "execution_count": null,
   "id": "3de0f05b",
   "metadata": {},
   "outputs": [],
   "source": [
    "d.get(500)"
   ]
  },
  {
   "cell_type": "code",
   "execution_count": null,
   "id": "037d00b1",
   "metadata": {},
   "outputs": [],
   "source": [
    "d[500]"
   ]
  },
  {
   "cell_type": "code",
   "execution_count": null,
   "id": "9a0cf9b6",
   "metadata": {},
   "outputs": [],
   "source": [
    "## 3. pop - d.pop(key)\n",
    "## It will remove the entry associated with that key and returns the valus\n",
    "d.pop(100)"
   ]
  },
  {
   "cell_type": "code",
   "execution_count": null,
   "id": "53d99947",
   "metadata": {},
   "outputs": [],
   "source": [
    "d.pop(400)"
   ]
  },
  {
   "cell_type": "code",
   "execution_count": null,
   "id": "8959580f",
   "metadata": {},
   "outputs": [],
   "source": [
    "#### popitem()\n",
    "### It removes any arbitatry item (key and value) from dict and return it"
   ]
  },
  {
   "cell_type": "code",
   "execution_count": null,
   "id": "1fc9a5ea",
   "metadata": {},
   "outputs": [],
   "source": [
    "5. key()\n",
    "## It will return all the keys associated with the dict"
   ]
  },
  {
   "cell_type": "code",
   "execution_count": null,
   "id": "4b606335",
   "metadata": {},
   "outputs": [],
   "source": [
    "f = {1:\"A\",2:\"B\",3:\"C\"}"
   ]
  },
  {
   "cell_type": "code",
   "execution_count": null,
   "id": "b14174f8",
   "metadata": {},
   "outputs": [],
   "source": [
    "f.pop(3)"
   ]
  },
  {
   "cell_type": "code",
   "execution_count": null,
   "id": "bfbcbee2",
   "metadata": {},
   "outputs": [],
   "source": [
    "f.clear()"
   ]
  },
  {
   "cell_type": "code",
   "execution_count": null,
   "id": "4b40aec4",
   "metadata": {},
   "outputs": [],
   "source": [
    "f.popitem()"
   ]
  },
  {
   "cell_type": "code",
   "execution_count": null,
   "id": "50cc2076",
   "metadata": {},
   "outputs": [],
   "source": [
    "f"
   ]
  },
  {
   "cell_type": "code",
   "execution_count": null,
   "id": "f91671c7",
   "metadata": {},
   "outputs": [],
   "source": [
    "5. key()\n",
    "## It will return all the keys associated with the dict"
   ]
  },
  {
   "cell_type": "code",
   "execution_count": null,
   "id": "0ed68b45",
   "metadata": {},
   "outputs": [],
   "source": [
    "f = {1:\"A\",2:\"B\",3:\"C\"}"
   ]
  },
  {
   "cell_type": "code",
   "execution_count": null,
   "id": "a90d9d10",
   "metadata": {},
   "outputs": [],
   "source": [
    "f"
   ]
  },
  {
   "cell_type": "code",
   "execution_count": null,
   "id": "4c02b1cc",
   "metadata": {},
   "outputs": [],
   "source": [
    "f.key()"
   ]
  },
  {
   "cell_type": "code",
   "execution_count": null,
   "id": "2517c968",
   "metadata": {},
   "outputs": [],
   "source": [
    "for i in f.key():\n",
    "    print(i)"
   ]
  },
  {
   "cell_type": "code",
   "execution_count": null,
   "id": "396de270",
   "metadata": {},
   "outputs": [],
   "source": [
    "6. values()\n",
    "## Return all the values associated with the Dict "
   ]
  },
  {
   "cell_type": "code",
   "execution_count": null,
   "id": "b8acfae9",
   "metadata": {},
   "outputs": [],
   "source": [
    "f.values()"
   ]
  },
  {
   "cell_type": "code",
   "execution_count": null,
   "id": "e2ca3d4b",
   "metadata": {},
   "outputs": [],
   "source": [
    "for i in f.values():\n",
    "    print(i)"
   ]
  },
  {
   "cell_type": "code",
   "execution_count": null,
   "id": "3ae2aea0",
   "metadata": {},
   "outputs": [],
   "source": [
    "### Write a program  - Create a Dict of student name - A,B,C,D,E and different marks and different marks and iterate both students \n",
    "#### as well as marks,but format the print by giving = \n",
    "output - A = 20"
   ]
  },
  {
   "cell_type": "code",
   "execution_count": 3,
   "id": "55e22000",
   "metadata": {
    "collapsed": true
   },
   "outputs": [
    {
     "ename": "NameError",
     "evalue": "name 'f' is not defined",
     "output_type": "error",
     "traceback": [
      "\u001b[1;31m---------------------------------------------------------------------------\u001b[0m",
      "\u001b[1;31mNameError\u001b[0m                                 Traceback (most recent call last)",
      "\u001b[1;32m<ipython-input-3-547622c184e6>\u001b[0m in \u001b[0;36m<module>\u001b[1;34m\u001b[0m\n\u001b[1;32m----> 1\u001b[1;33m \u001b[1;32mfor\u001b[0m \u001b[0mk\u001b[0m \u001b[1;32min\u001b[0m \u001b[0mf\u001b[0m\u001b[1;33m.\u001b[0m\u001b[0mkey\u001b[0m\u001b[1;33m(\u001b[0m\u001b[1;33m)\u001b[0m\u001b[1;33m:\u001b[0m\u001b[1;33m\u001b[0m\u001b[1;33m\u001b[0m\u001b[0m\n\u001b[0m\u001b[0;32m      2\u001b[0m     \u001b[0mprint\u001b[0m\u001b[1;33m(\u001b[0m\u001b[0mk\u001b[0m\u001b[1;33m)\u001b[0m\u001b[1;33m\u001b[0m\u001b[1;33m\u001b[0m\u001b[0m\n\u001b[0;32m      3\u001b[0m     \u001b[0mprint\u001b[0m\u001b[1;33m(\u001b[0m\u001b[0mk\u001b[0m\u001b[1;33m,\u001b[0m\u001b[0mf\u001b[0m\u001b[1;33m[\u001b[0m\u001b[0mk\u001b[0m\u001b[1;33m]\u001b[0m\u001b[1;33m)\u001b[0m\u001b[1;33m\u001b[0m\u001b[1;33m\u001b[0m\u001b[0m\n",
      "\u001b[1;31mNameError\u001b[0m: name 'f' is not defined"
     ]
    }
   ],
   "source": [
    "for k in f.key():\n",
    "    print(k)\n",
    "    print(k,f[k])"
   ]
  },
  {
   "cell_type": "code",
   "execution_count": 1,
   "id": "45121af1",
   "metadata": {},
   "outputs": [
    {
     "ename": "NameError",
     "evalue": "name 'f' is not defined",
     "output_type": "error",
     "traceback": [
      "\u001b[1;31m---------------------------------------------------------------------------\u001b[0m",
      "\u001b[1;31mNameError\u001b[0m                                 Traceback (most recent call last)",
      "\u001b[1;32m<ipython-input-1-b319d95e73e1>\u001b[0m in \u001b[0;36m<module>\u001b[1;34m\u001b[0m\n\u001b[1;32m----> 1\u001b[1;33m \u001b[0mf\u001b[0m\u001b[1;33m(\u001b[0m\u001b[1;34m'B'\u001b[0m\u001b[1;33m)\u001b[0m\u001b[1;33m\u001b[0m\u001b[1;33m\u001b[0m\u001b[0m\n\u001b[0m",
      "\u001b[1;31mNameError\u001b[0m: name 'f' is not defined"
     ]
    }
   ],
   "source": [
    "f('B')"
   ]
  },
  {
   "cell_type": "code",
   "execution_count": null,
   "id": "5b105c42",
   "metadata": {},
   "outputs": [],
   "source": [
    "7. item()  ### It returns list of tuples representing key and value pair"
   ]
  },
  {
   "cell_type": "code",
   "execution_count": 5,
   "id": "2ad9bda7",
   "metadata": {},
   "outputs": [
    {
     "ename": "NameError",
     "evalue": "name 'f' is not defined",
     "output_type": "error",
     "traceback": [
      "\u001b[1;31m---------------------------------------------------------------------------\u001b[0m",
      "\u001b[1;31mNameError\u001b[0m                                 Traceback (most recent call last)",
      "\u001b[1;32m<ipython-input-5-3ae9af81510b>\u001b[0m in \u001b[0;36m<module>\u001b[1;34m\u001b[0m\n\u001b[1;32m----> 1\u001b[1;33m \u001b[0mf\u001b[0m\u001b[1;33m.\u001b[0m\u001b[0mitems\u001b[0m\u001b[1;33m(\u001b[0m\u001b[1;33m)\u001b[0m\u001b[1;33m\u001b[0m\u001b[1;33m\u001b[0m\u001b[0m\n\u001b[0m\u001b[0;32m      2\u001b[0m \u001b[0mdict_item\u001b[0m\u001b[1;33m(\u001b[0m\u001b[1;33m[\u001b[0m\u001b[1;33m(\u001b[0m\u001b[1;34m'A'\u001b[0m\u001b[1;33m,\u001b[0m\u001b[1;36m1\u001b[0m\u001b[1;33m)\u001b[0m\u001b[1;33m,\u001b[0m\u001b[1;33m(\u001b[0m\u001b[1;34m'B'\u001b[0m\u001b[1;33m,\u001b[0m\u001b[1;36m2\u001b[0m\u001b[1;33m)\u001b[0m\u001b[1;33m,\u001b[0m\u001b[1;33m(\u001b[0m\u001b[1;34m'C'\u001b[0m\u001b[1;33m,\u001b[0m\u001b[1;36m3\u001b[0m\u001b[1;33m)\u001b[0m\u001b[1;33m]\u001b[0m\u001b[1;33m)\u001b[0m\u001b[1;33m\u001b[0m\u001b[1;33m\u001b[0m\u001b[0m\n",
      "\u001b[1;31mNameError\u001b[0m: name 'f' is not defined"
     ]
    }
   ],
   "source": [
    "f.items()\n",
    "dict_item([('A',1),('B',2),('C',3)])"
   ]
  },
  {
   "cell_type": "code",
   "execution_count": null,
   "id": "ba7818d2",
   "metadata": {},
   "outputs": [],
   "source": [
    "### Arthematic Operators\n",
    "+ ==> Addition \n",
    "- ==>Substraction \n",
    "* ==>Multipication\n",
    "/ ==>Division\n",
    "% ==>Modulo operator (Reminder)\n",
    "// ==> Floor Divison (Take the whole value 7.4(7),7.6(8)\n",
    "**==> Exponenet Operatoror Power"
   ]
  },
  {
   "cell_type": "code",
   "execution_count": 1,
   "id": "d587b2e3",
   "metadata": {},
   "outputs": [
    {
     "name": "stdout",
     "output_type": "stream",
     "text": [
      "12 Add\n",
      "8 Substraction\n",
      "20 Multiply\n",
      "100 Exponent\n",
      "5.0 Division\n",
      "5 Floor Div\n",
      "0 Modulo\n"
     ]
    }
   ],
   "source": [
    "a = 10 \n",
    "b = 2\n",
    "\n",
    "print(a+b,\"Add\")\n",
    "print(a-b,\"Substraction\")\n",
    "print(a*b,\"Multiply\")\n",
    "print(a**b,\"Exponent\")\n",
    "print(a/b,\"Division\")\n",
    "print(a//b,\"Floor Div\")\n",
    "print(a%b,\"Modulo\")"
   ]
  },
  {
   "cell_type": "code",
   "execution_count": null,
   "id": "9db060a4",
   "metadata": {},
   "outputs": [],
   "source": [
    "#### 2. Relational Operator\n",
    ">,<,>=,<="
   ]
  },
  {
   "cell_type": "code",
   "execution_count": 2,
   "id": "6262af76",
   "metadata": {},
   "outputs": [
    {
     "name": "stdout",
     "output_type": "stream",
     "text": [
      "False Greater\n",
      "True Smaller\n",
      "False Greater or equal to\n",
      "True Less than or equal to\n"
     ]
    }
   ],
   "source": [
    "a = 10 \n",
    "b = 20\n",
    "print(a>b,\"Greater\")\n",
    "print(a<b,\"Smaller\")\n",
    "print(a>=b, \"Greater or equal to\")\n",
    "print(a<=b, \"Less than or equal to\")"
   ]
  },
  {
   "cell_type": "code",
   "execution_count": 3,
   "id": "9f1f2f44",
   "metadata": {},
   "outputs": [
    {
     "name": "stdout",
     "output_type": "stream",
     "text": [
      "True Greater\n",
      "False Smaller\n",
      "True Greater or equal to\n",
      "False Less than or equal to\n"
     ]
    }
   ],
   "source": [
    "a = \"priya\"\n",
    "b =\"neha\"\n",
    "\n",
    "print(a>b,\"Greater\")\n",
    "print(a<b,\"Smaller\")\n",
    "print(a>=b, \"Greater or equal to\")\n",
    "print(a<=b, \"Less than or equal to\")\n"
   ]
  },
  {
   "cell_type": "code",
   "execution_count": null,
   "id": "8e36ca2a",
   "metadata": {},
   "outputs": [],
   "source": [
    "### 3. Equality Operators\n",
    " ==, !="
   ]
  },
  {
   "cell_type": "code",
   "execution_count": 4,
   "id": "851b2944",
   "metadata": {},
   "outputs": [
    {
     "data": {
      "text/plain": [
       "False"
      ]
     },
     "execution_count": 4,
     "metadata": {},
     "output_type": "execute_result"
    }
   ],
   "source": [
    "10 == 20"
   ]
  },
  {
   "cell_type": "code",
   "execution_count": 5,
   "id": "e854303f",
   "metadata": {},
   "outputs": [
    {
     "data": {
      "text/plain": [
       "True"
      ]
     },
     "execution_count": 5,
     "metadata": {},
     "output_type": "execute_result"
    }
   ],
   "source": [
    "False == False"
   ]
  },
  {
   "cell_type": "code",
   "execution_count": 6,
   "id": "5c9b9353",
   "metadata": {},
   "outputs": [
    {
     "data": {
      "text/plain": [
       "True"
      ]
     },
     "execution_count": 6,
     "metadata": {},
     "output_type": "execute_result"
    }
   ],
   "source": [
    "10 != 20"
   ]
  },
  {
   "cell_type": "code",
   "execution_count": 7,
   "id": "5e814565",
   "metadata": {},
   "outputs": [
    {
     "data": {
      "text/plain": [
       "True"
      ]
     },
     "execution_count": 7,
     "metadata": {},
     "output_type": "execute_result"
    }
   ],
   "source": [
    "True != False"
   ]
  },
  {
   "cell_type": "code",
   "execution_count": null,
   "id": "6bd82ba4",
   "metadata": {},
   "outputs": [],
   "source": [
    "### 4. Logical Operators \n",
    "and , or , not \n",
    "## we can apply for all data types"
   ]
  },
  {
   "cell_type": "code",
   "execution_count": null,
   "id": "a92f6f47",
   "metadata": {},
   "outputs": [],
   "source": [
    "For bool type behaviours \n",
    "and -- if both arguments are the True then result is True\n",
    "or -- if atleast one argument is True then the result is True\n",
    "not -- Complement"
   ]
  },
  {
   "cell_type": "code",
   "execution_count": 8,
   "id": "eb5d0d10",
   "metadata": {},
   "outputs": [
    {
     "data": {
      "text/plain": [
       "False"
      ]
     },
     "execution_count": 8,
     "metadata": {},
     "output_type": "execute_result"
    }
   ],
   "source": [
    "True and False "
   ]
  },
  {
   "cell_type": "code",
   "execution_count": 9,
   "id": "f980b8d4",
   "metadata": {},
   "outputs": [
    {
     "data": {
      "text/plain": [
       "True"
      ]
     },
     "execution_count": 9,
     "metadata": {},
     "output_type": "execute_result"
    }
   ],
   "source": [
    "True or False"
   ]
  },
  {
   "cell_type": "code",
   "execution_count": 10,
   "id": "77154345",
   "metadata": {},
   "outputs": [
    {
     "data": {
      "text/plain": [
       "True"
      ]
     },
     "execution_count": 10,
     "metadata": {},
     "output_type": "execute_result"
    }
   ],
   "source": [
    "not False"
   ]
  },
  {
   "cell_type": "code",
   "execution_count": 11,
   "id": "ea0bfb1b",
   "metadata": {},
   "outputs": [
    {
     "data": {
      "text/plain": [
       "False"
      ]
     },
     "execution_count": 11,
     "metadata": {},
     "output_type": "execute_result"
    }
   ],
   "source": [
    "not True"
   ]
  },
  {
   "cell_type": "code",
   "execution_count": null,
   "id": "cfefb4bd",
   "metadata": {},
   "outputs": [],
   "source": [
    "0 means False \n",
    "non - zero means is True \n",
    "empty string is always treated as False "
   ]
  },
  {
   "cell_type": "code",
   "execution_count": 12,
   "id": "73c8c99d",
   "metadata": {},
   "outputs": [
    {
     "data": {
      "text/plain": [
       "20"
      ]
     },
     "execution_count": 12,
     "metadata": {},
     "output_type": "execute_result"
    }
   ],
   "source": [
    "10 and 20"
   ]
  },
  {
   "cell_type": "code",
   "execution_count": 13,
   "id": "da40c711",
   "metadata": {},
   "outputs": [
    {
     "data": {
      "text/plain": [
       "0"
      ]
     },
     "execution_count": 13,
     "metadata": {},
     "output_type": "execute_result"
    }
   ],
   "source": [
    "0 and 20"
   ]
  },
  {
   "cell_type": "code",
   "execution_count": null,
   "id": "f2441737",
   "metadata": {},
   "outputs": [],
   "source": [
    "## if first argument is zero, then the result is zero otherwise result is y"
   ]
  },
  {
   "cell_type": "code",
   "execution_count": 14,
   "id": "0c098394",
   "metadata": {},
   "outputs": [
    {
     "data": {
      "text/plain": [
       "10"
      ]
     },
     "execution_count": 14,
     "metadata": {},
     "output_type": "execute_result"
    }
   ],
   "source": [
    "10 or 20"
   ]
  },
  {
   "cell_type": "code",
   "execution_count": 15,
   "id": "2a68d89a",
   "metadata": {},
   "outputs": [
    {
     "data": {
      "text/plain": [
       "20"
      ]
     },
     "execution_count": 15,
     "metadata": {},
     "output_type": "execute_result"
    }
   ],
   "source": [
    "0 or 20"
   ]
  },
  {
   "cell_type": "code",
   "execution_count": null,
   "id": "053aaab2",
   "metadata": {},
   "outputs": [],
   "source": [
    "## if x evaluate to be True then the result is x otherwise y"
   ]
  },
  {
   "cell_type": "code",
   "execution_count": null,
   "id": "c86319f1",
   "metadata": {},
   "outputs": [],
   "source": [
    "### 5. Bitwise Operators\n",
    "&,|\n",
    "### These operator is applicable only for int and boolean data types"
   ]
  },
  {
   "cell_type": "code",
   "execution_count": 16,
   "id": "2a7a8e5a",
   "metadata": {},
   "outputs": [
    {
     "name": "stdout",
     "output_type": "stream",
     "text": [
      "4\n"
     ]
    }
   ],
   "source": [
    "print(4&5)"
   ]
  },
  {
   "cell_type": "code",
   "execution_count": 17,
   "id": "203e16d1",
   "metadata": {},
   "outputs": [
    {
     "name": "stdout",
     "output_type": "stream",
     "text": [
      "False\n"
     ]
    }
   ],
   "source": [
    "print(True&False)"
   ]
  },
  {
   "cell_type": "code",
   "execution_count": null,
   "id": "bcf124fc",
   "metadata": {},
   "outputs": [],
   "source": [
    "& == if both bits are 1 then only the results is 1 otherwise 0\n",
    "| == if atleast one bits is 1 then the results is 1 otherwise 0"
   ]
  },
  {
   "cell_type": "code",
   "execution_count": null,
   "id": "2edb20d6",
   "metadata": {},
   "outputs": [],
   "source": [
    "### 6. Assignments Operators \n",
    "+=, -=, /=, %=, //=, **=, &=, |="
   ]
  },
  {
   "cell_type": "code",
   "execution_count": 18,
   "id": "da828022",
   "metadata": {},
   "outputs": [
    {
     "name": "stdout",
     "output_type": "stream",
     "text": [
      "30\n"
     ]
    }
   ],
   "source": [
    "x = 10\n",
    "x += 20\n",
    "print(x)\n"
   ]
  },
  {
   "cell_type": "code",
   "execution_count": 20,
   "id": "d916fb04",
   "metadata": {},
   "outputs": [],
   "source": [
    "x = 60\n",
    "x = x+50"
   ]
  },
  {
   "cell_type": "code",
   "execution_count": null,
   "id": "64522173",
   "metadata": {},
   "outputs": [],
   "source": [
    "##### 7. Ternary Operators\n",
    "syntax - x = firstvalue if condition else second value"
   ]
  },
  {
   "cell_type": "code",
   "execution_count": 21,
   "id": "51b5d144",
   "metadata": {},
   "outputs": [],
   "source": [
    "a,b = 10,20"
   ]
  },
  {
   "cell_type": "code",
   "execution_count": 23,
   "id": "e411db73",
   "metadata": {},
   "outputs": [
    {
     "name": "stdout",
     "output_type": "stream",
     "text": [
      "30\n"
     ]
    }
   ],
   "source": [
    "x = 30 if a < b else 40\n",
    "print(x)"
   ]
  },
  {
   "cell_type": "code",
   "execution_count": 24,
   "id": "42e9ba7c",
   "metadata": {},
   "outputs": [
    {
     "name": "stdout",
     "output_type": "stream",
     "text": [
      "Enter the 1st no.12\n",
      "Enter the 2nd no.15\n",
      "12\n"
     ]
    }
   ],
   "source": [
    "## Write a program Read two number from user and print the min value\n",
    "a = int(input(\"Enter the 1st no.\"))\n",
    "b = int(input(\"Enter the 2nd no.\"))\n",
    "min = a if a<b else b\n",
    "print(min)"
   ]
  },
  {
   "cell_type": "code",
   "execution_count": null,
   "id": "4e043fa7",
   "metadata": {},
   "outputs": [],
   "source": [
    "### write a program three numbers from user and print the min value"
   ]
  },
  {
   "cell_type": "code",
   "execution_count": 1,
   "id": "36121751",
   "metadata": {},
   "outputs": [
    {
     "name": "stdout",
     "output_type": "stream",
     "text": [
      "Enter the 1st no.5\n",
      "Enter the 2nd no.6\n",
      "Enter the 3rd no.4\n",
      "4\n"
     ]
    }
   ],
   "source": [
    "a = int(input(\"Enter the 1st no.\"))\n",
    "b = int(input(\"Enter the 2nd no.\"))\n",
    "c = int(input(\"Enter the 3rd no.\"))\n",
    "min = a if a<b and a<c else b if b<c else c\n",
    "print(min)\n"
   ]
  },
  {
   "cell_type": "code",
   "execution_count": null,
   "id": "d624ef20",
   "metadata": {},
   "outputs": [],
   "source": [
    "### 8. Special Operators \n",
    "1. Identity Operators \n",
    "2. Membership Operators"
   ]
  },
  {
   "cell_type": "code",
   "execution_count": null,
   "id": "02f5115b",
   "metadata": {},
   "outputs": [],
   "source": [
    "Identity Operators - To address Comparision\n",
    "is \n",
    "is not"
   ]
  },
  {
   "cell_type": "code",
   "execution_count": null,
   "id": "7e2255ff",
   "metadata": {},
   "outputs": [],
   "source": [
    "r1 and r2 returns True if both r1 and r2 are pointing the same object\n",
    "r1 is not r2 returns True if both r1 and r2 are not pointing to the same object"
   ]
  },
  {
   "cell_type": "code",
   "execution_count": 2,
   "id": "dfcc1dae",
   "metadata": {},
   "outputs": [
    {
     "name": "stdout",
     "output_type": "stream",
     "text": [
      "False\n"
     ]
    }
   ],
   "source": [
    "a = 10\n",
    "b = 20\n",
    "print(a is b)"
   ]
  },
  {
   "cell_type": "code",
   "execution_count": 3,
   "id": "a3d43216",
   "metadata": {},
   "outputs": [],
   "source": [
    "l = ['One','Two','Three']\n",
    "l1 = ['one','two','Three']"
   ]
  },
  {
   "cell_type": "code",
   "execution_count": 4,
   "id": "ccb8c61a",
   "metadata": {},
   "outputs": [
    {
     "name": "stdout",
     "output_type": "stream",
     "text": [
      "False\n"
     ]
    }
   ],
   "source": [
    "print(l is l1)"
   ]
  },
  {
   "cell_type": "code",
   "execution_count": null,
   "id": "67c3d178",
   "metadata": {},
   "outputs": [],
   "source": [
    "## 9. Membership Operators\n",
    "in and not in "
   ]
  },
  {
   "cell_type": "code",
   "execution_count": null,
   "id": "98a3ea35",
   "metadata": {},
   "outputs": [],
   "source": [
    "in return True if the given object present in specific collection\n",
    "not in returns True if the given object is not present in the specific collection "
   ]
  },
  {
   "cell_type": "code",
   "execution_count": 5,
   "id": "de151cc0",
   "metadata": {},
   "outputs": [
    {
     "name": "stdout",
     "output_type": "stream",
     "text": [
      "True\n"
     ]
    }
   ],
   "source": [
    "x = \"learning python is very easy\"\n",
    "print('l' in x)"
   ]
  },
  {
   "cell_type": "code",
   "execution_count": 6,
   "id": "4abdab33",
   "metadata": {},
   "outputs": [
    {
     "name": "stdout",
     "output_type": "stream",
     "text": [
      "False\n"
     ]
    }
   ],
   "source": [
    "l = [\"Sun\", \"Mon\", \"Tue\", \"Wed\"]\n",
    "print('Sunny' in l)"
   ]
  },
  {
   "cell_type": "code",
   "execution_count": null,
   "id": "228a8736",
   "metadata": {},
   "outputs": [],
   "source": [
    "###Flow Controls\n",
    "Conditional Statments \n",
    "1. if\n",
    "2. if - elif\n",
    "3. if - elif-else"
   ]
  },
  {
   "cell_type": "code",
   "execution_count": null,
   "id": "a0d266fc",
   "metadata": {},
   "outputs": [],
   "source": [
    "Syntax-\n",
    "if condition: statment\n",
    "    or \n",
    "if condition\n",
    "   statment1\n",
    "    statment2"
   ]
  },
  {
   "cell_type": "code",
   "execution_count": 8,
   "id": "9b86b585",
   "metadata": {},
   "outputs": [
    {
     "name": "stdout",
     "output_type": "stream",
     "text": [
      "Enter Your NamePraveen\n",
      "Hi Praveen, Good Morning!!!\n"
     ]
    }
   ],
   "source": [
    "name = input(\"Enter Your Name\")\n",
    "if name == \"Praveen\":\n",
    "    print(f\"Hi {name}, Good Morning!!!\")"
   ]
  },
  {
   "cell_type": "code",
   "execution_count": 9,
   "id": "b055998f",
   "metadata": {},
   "outputs": [],
   "source": [
    "a = 10 \n",
    "if a > 11:\n",
    "    print(\"Greater\")"
   ]
  },
  {
   "cell_type": "code",
   "execution_count": 10,
   "id": "c7a887fd",
   "metadata": {
    "collapsed": true
   },
   "outputs": [
    {
     "ename": "SyntaxError",
     "evalue": "invalid syntax (<ipython-input-10-4595d686f699>, line 1)",
     "output_type": "error",
     "traceback": [
      "\u001b[1;36m  File \u001b[1;32m\"<ipython-input-10-4595d686f699>\"\u001b[1;36m, line \u001b[1;32m1\u001b[0m\n\u001b[1;33m    if-else\u001b[0m\n\u001b[1;37m       ^\u001b[0m\n\u001b[1;31mSyntaxError\u001b[0m\u001b[1;31m:\u001b[0m invalid syntax\n"
     ]
    }
   ],
   "source": [
    "if-else\n",
    "if condition\n",
    "   Action\n",
    "else:\n",
    "    Action"
   ]
  },
  {
   "cell_type": "code",
   "execution_count": 11,
   "id": "29682e6d",
   "metadata": {},
   "outputs": [
    {
     "name": "stdout",
     "output_type": "stream",
     "text": [
      "A is smaller \n"
     ]
    }
   ],
   "source": [
    "a = 10 \n",
    "if a > 11:\n",
    "    print(\"Greater\")\n",
    "else:\n",
    "    print(\"A is smaller \")\n",
    "     "
   ]
  },
  {
   "cell_type": "code",
   "execution_count": null,
   "id": "73512b68",
   "metadata": {},
   "outputs": [],
   "source": [
    "3. if-elif-else"
   ]
  },
  {
   "cell_type": "code",
   "execution_count": 15,
   "id": "8d0d452d",
   "metadata": {},
   "outputs": [
    {
     "name": "stdout",
     "output_type": "stream",
     "text": [
      "Enter your brandPizza Hut\n",
      "Other brand\n"
     ]
    }
   ],
   "source": [
    "brand = input(\"Enter your brand\")\n",
    "if brand == \"KFC\":\n",
    "    print(\"The prices are high\")\n",
    "elif brand == \"Dominos\":\n",
    "   print(\"Pizza on Time\")\n",
    "else:\n",
    "    print(\"Other brand\")"
   ]
  },
  {
   "cell_type": "code",
   "execution_count": 16,
   "id": "0d79004b",
   "metadata": {},
   "outputs": [
    {
     "name": "stdout",
     "output_type": "stream",
     "text": [
      "Enter your brandDominos\n",
      "Pizza on Time\n"
     ]
    }
   ],
   "source": [
    "brand = input(\"Enter your brand\")\n",
    "if brand == \"KFC\":\n",
    "    print(\"The prices are high\")\n",
    "elif brand == \"Dominos\":\n",
    "   print(\"Pizza on Time\")\n",
    "else:\n",
    "    print(\"Other brand\")"
   ]
  },
  {
   "cell_type": "code",
   "execution_count": null,
   "id": "66d9ec28",
   "metadata": {},
   "outputs": [],
   "source": [
    "### Iterative Statments\n",
    "while True :  ## It will always excute infinite time unless you break somewhere"
   ]
  },
  {
   "cell_type": "code",
   "execution_count": null,
   "id": "312b493e",
   "metadata": {},
   "outputs": [],
   "source": [
    "If we want to excute a group of statments multiple times python - for, while"
   ]
  },
  {
   "cell_type": "code",
   "execution_count": null,
   "id": "cd078956",
   "metadata": {},
   "outputs": [],
   "source": [
    "If we want to iterate a particular sequence - Use for loop for x in sequance :\n",
    "    print........."
   ]
  },
  {
   "cell_type": "code",
   "execution_count": 18,
   "id": "65582178",
   "metadata": {},
   "outputs": [
    {
     "name": "stdout",
     "output_type": "stream",
     "text": [
      "0 N\n",
      "1 i\n",
      "2 t\n",
      "3 i\n",
      "4 s\n",
      "5 h\n",
      "6  \n",
      "7 S\n",
      "8 a\n",
      "9 h\n"
     ]
    }
   ],
   "source": [
    "t = 0\n",
    "x = \"Nitish Sah\"\n",
    "for i in x:\n",
    "    print(t,i)\n",
    "    t +=1"
   ]
  },
  {
   "cell_type": "code",
   "execution_count": null,
   "id": "23f35213",
   "metadata": {},
   "outputs": [],
   "source": [
    "#### While Loops \n",
    "When you want to excute a certain condition, until some condition is False"
   ]
  },
  {
   "cell_type": "code",
   "execution_count": 19,
   "id": "cc3f98c3",
   "metadata": {},
   "outputs": [
    {
     "name": "stdout",
     "output_type": "stream",
     "text": [
      "1\n",
      "2\n",
      "3\n",
      "4\n",
      "5\n",
      "6\n",
      "7\n",
      "8\n",
      "9\n",
      "10\n"
     ]
    }
   ],
   "source": [
    "x = 1 \n",
    "while x <= 10:\n",
    "    print(x)\n",
    "    x += 1"
   ]
  },
  {
   "cell_type": "code",
   "execution_count": 24,
   "id": "75bf557d",
   "metadata": {},
   "outputs": [
    {
     "name": "stdout",
     "output_type": "stream",
     "text": [
      "0 0\n",
      "0 1\n",
      "0 2\n",
      "0 3\n",
      "0\n",
      "1 0\n",
      "1 1\n",
      "1 2\n",
      "1 3\n",
      "1\n",
      "2 0\n",
      "2 1\n",
      "2 2\n",
      "2 3\n",
      "2\n",
      "3 0\n",
      "3 1\n",
      "3 2\n",
      "3 3\n",
      "3\n"
     ]
    }
   ],
   "source": [
    "#### Nested Loops \n",
    "for i in range(4): \n",
    "    for j in range(4): \n",
    "        print(i,j)\n",
    "    print(i)"
   ]
  },
  {
   "cell_type": "code",
   "execution_count": 25,
   "id": "e86cf4b3",
   "metadata": {
    "collapsed": true
   },
   "outputs": [
    {
     "ename": "SyntaxError",
     "evalue": "invalid syntax (<ipython-input-25-9c81c8060bb8>, line 2)",
     "output_type": "error",
     "traceback": [
      "\u001b[1;36m  File \u001b[1;32m\"<ipython-input-25-9c81c8060bb8>\"\u001b[1;36m, line \u001b[1;32m2\u001b[0m\n\u001b[1;33m    *\u001b[0m\n\u001b[1;37m     ^\u001b[0m\n\u001b[1;31mSyntaxError\u001b[0m\u001b[1;31m:\u001b[0m invalid syntax\n"
     ]
    }
   ],
   "source": [
    "### write a program to display * in right angle traingle\n",
    "*\n",
    "**\n",
    "***\n",
    "****\n",
    "*****"
   ]
  },
  {
   "cell_type": "code",
   "execution_count": 32,
   "id": "35ea3560",
   "metadata": {},
   "outputs": [
    {
     "name": "stdout",
     "output_type": "stream",
     "text": [
      "*\n",
      "**\n",
      "***\n",
      "****\n",
      "*****\n"
     ]
    }
   ],
   "source": [
    "n = 5\n",
    "for i in range(1,n+1):\n",
    "    print(\"*\"*i)   ### Mathematical Operators to multiply string"
   ]
  },
  {
   "cell_type": "code",
   "execution_count": 34,
   "id": "a0d6e4df",
   "metadata": {
    "collapsed": true
   },
   "outputs": [
    {
     "name": "stdout",
     "output_type": "stream",
     "text": [
      "Enter the value: t\n"
     ]
    },
    {
     "ename": "ValueError",
     "evalue": "invalid literal for int() with base 10: 't'",
     "output_type": "error",
     "traceback": [
      "\u001b[1;31m---------------------------------------------------------------------------\u001b[0m",
      "\u001b[1;31mValueError\u001b[0m                                Traceback (most recent call last)",
      "\u001b[1;32m<ipython-input-34-20f68e95fa13>\u001b[0m in \u001b[0;36m<module>\u001b[1;34m\u001b[0m\n\u001b[1;32m----> 1\u001b[1;33m \u001b[0mn\u001b[0m \u001b[1;33m=\u001b[0m \u001b[0mint\u001b[0m\u001b[1;33m(\u001b[0m\u001b[0minput\u001b[0m\u001b[1;33m(\u001b[0m\u001b[1;34m\"Enter the value: \"\u001b[0m\u001b[1;33m)\u001b[0m\u001b[1;33m)\u001b[0m\u001b[1;33m\u001b[0m\u001b[1;33m\u001b[0m\u001b[0m\n\u001b[0m\u001b[0;32m      2\u001b[0m \u001b[1;32mfor\u001b[0m \u001b[0mi\u001b[0m \u001b[1;32min\u001b[0m \u001b[0mrange\u001b[0m\u001b[1;33m(\u001b[0m\u001b[1;36m1\u001b[0m\u001b[1;33m,\u001b[0m\u001b[0mn\u001b[0m\u001b[1;33m+\u001b[0m\u001b[1;36m1\u001b[0m\u001b[1;33m)\u001b[0m\u001b[1;33m:\u001b[0m\u001b[1;33m\u001b[0m\u001b[1;33m\u001b[0m\u001b[0m\n\u001b[0;32m      3\u001b[0m     \u001b[0mprint\u001b[0m\u001b[1;33m(\u001b[0m\u001b[1;34m\"*\"\u001b[0m\u001b[1;33m*\u001b[0m\u001b[0mi\u001b[0m\u001b[1;33m)\u001b[0m\u001b[1;33m\u001b[0m\u001b[1;33m\u001b[0m\u001b[0m\n",
      "\u001b[1;31mValueError\u001b[0m: invalid literal for int() with base 10: 't'"
     ]
    }
   ],
   "source": [
    "n = int(input(\"Enter the value: \"))\n",
    "for i in range(1,n+1):\n",
    "    print(\"*\"*i)"
   ]
  },
  {
   "cell_type": "code",
   "execution_count": null,
   "id": "d5762179",
   "metadata": {},
   "outputs": [],
   "source": [
    "### Pattern of the 1st letter of your names - S,P,H,R(Try to do manual)"
   ]
  },
  {
   "cell_type": "code",
   "execution_count": null,
   "id": "7edef25d",
   "metadata": {},
   "outputs": [],
   "source": [
    "#### Transfer Statments -\n",
    "1. break"
   ]
  },
  {
   "cell_type": "code",
   "execution_count": 35,
   "id": "b55aaa45",
   "metadata": {},
   "outputs": [
    {
     "name": "stdout",
     "output_type": "stream",
     "text": [
      "0\n",
      "1\n",
      "2\n",
      "3\n",
      "4\n",
      "5\n",
      "6\n",
      "Processing is done, Now break\n"
     ]
    }
   ],
   "source": [
    "for i in range(10):\n",
    "    if i == 7:\n",
    "        print(\"Processing is done, Now break\")\n",
    "        break\n",
    "    print(i)    "
   ]
  },
  {
   "cell_type": "code",
   "execution_count": 37,
   "id": "029c9b7e",
   "metadata": {},
   "outputs": [
    {
     "name": "stdout",
     "output_type": "stream",
     "text": [
      "100\n",
      "200\n",
      "We can't Process this\n",
      "400\n",
      "We can't Process this\n"
     ]
    }
   ],
   "source": [
    "cart = [100,200,800,400,500]\n",
    "for x in cart:\n",
    "    if x >= 500:\n",
    "        print(\"We can't Process this\")\n",
    "        continue\n",
    "    print(x)"
   ]
  },
  {
   "cell_type": "code",
   "execution_count": null,
   "id": "73ff20e3",
   "metadata": {},
   "outputs": [],
   "source": []
  }
 ],
 "metadata": {
  "kernelspec": {
   "display_name": "Python 3",
   "language": "python",
   "name": "python3"
  },
  "language_info": {
   "codemirror_mode": {
    "name": "ipython",
    "version": 3
   },
   "file_extension": ".py",
   "mimetype": "text/x-python",
   "name": "python",
   "nbconvert_exporter": "python",
   "pygments_lexer": "ipython3",
   "version": "3.8.8"
  }
 },
 "nbformat": 4,
 "nbformat_minor": 5
}
