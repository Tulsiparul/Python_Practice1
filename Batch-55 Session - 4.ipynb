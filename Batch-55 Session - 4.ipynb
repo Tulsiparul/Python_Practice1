{
 "cells": [
  {
   "cell_type": "markdown",
   "id": "796e6e46",
   "metadata": {},
   "source": [
    "# Story creator in python "
   ]
  },
  {
   "cell_type": "code",
   "execution_count": 1,
   "id": "7ac161f1",
   "metadata": {},
   "outputs": [],
   "source": [
    "When = ['yesterday','10 year Back', 'Last Night','Long Time ago']\n",
    "Who = ['A Lizard','An Elephant','A Man','A Bird']\n",
    "Name = ['Nitish','Tulsi','Golu','Neha']\n",
    "Address = ['India','Spain','Italy','London']\n",
    "Went = ['A Mall','to watch a sport Match','A Restaurant','A Library']\n",
    "Happend = ['read book','made lots of friends','solved a mystery','find a secret key']"
   ]
  },
  {
   "cell_type": "code",
   "execution_count": 2,
   "id": "7e252387",
   "metadata": {},
   "outputs": [],
   "source": [
    "import random  ### This is a module in python which helps to randomly selects data(Random - Equal chance)"
   ]
  },
  {
   "cell_type": "code",
   "execution_count": 3,
   "id": "1470a09c",
   "metadata": {},
   "outputs": [
    {
     "ename": "NameError",
     "evalue": "name 'Happened' is not defined",
     "output_type": "error",
     "traceback": [
      "\u001b[1;31m---------------------------------------------------------------------------\u001b[0m",
      "\u001b[1;31mNameError\u001b[0m                                 Traceback (most recent call last)",
      "\u001b[1;32m<ipython-input-3-5d37c96bffe6>\u001b[0m in \u001b[0;36m<module>\u001b[1;34m\u001b[0m\n\u001b[1;32m----> 1\u001b[1;33m \u001b[0mprint\u001b[0m\u001b[1;33m(\u001b[0m\u001b[0mrandom\u001b[0m\u001b[1;33m.\u001b[0m\u001b[0mchoice\u001b[0m\u001b[1;33m(\u001b[0m\u001b[0mWhen\u001b[0m\u001b[1;33m)\u001b[0m \u001b[1;33m+\u001b[0m \u001b[1;34m\" \"\u001b[0m \u001b[1;33m+\u001b[0m \u001b[0mrandom\u001b[0m\u001b[1;33m.\u001b[0m\u001b[0mchoice\u001b[0m\u001b[1;33m(\u001b[0m\u001b[0mWho\u001b[0m\u001b[1;33m)\u001b[0m \u001b[1;33m+\u001b[0m \u001b[1;34m\" named as \"\u001b[0m \u001b[1;33m+\u001b[0m \u001b[0mrandom\u001b[0m\u001b[1;33m.\u001b[0m\u001b[0mchoice\u001b[0m\u001b[1;33m(\u001b[0m\u001b[0mName\u001b[0m\u001b[1;33m)\u001b[0m \u001b[1;33m+\u001b[0m \u001b[1;34m\" lived in \"\u001b[0m \u001b[1;33m+\u001b[0m \u001b[0mrandom\u001b[0m\u001b[1;33m.\u001b[0m\u001b[0mchoice\u001b[0m\u001b[1;33m(\u001b[0m\u001b[0mAddress\u001b[0m\u001b[1;33m)\u001b[0m \u001b[1;33m+\u001b[0m \u001b[1;34m\" visited \"\u001b[0m \u001b[1;33m+\u001b[0m \u001b[0mrandom\u001b[0m\u001b[1;33m.\u001b[0m\u001b[0mchoice\u001b[0m\u001b[1;33m(\u001b[0m\u001b[0mWent\u001b[0m\u001b[1;33m)\u001b[0m \u001b[1;33m+\u001b[0m \u001b[1;34m\" and \"\u001b[0m \u001b[1;33m+\u001b[0m \u001b[0mrandom\u001b[0m\u001b[1;33m.\u001b[0m\u001b[0mchoice\u001b[0m\u001b[1;33m(\u001b[0m\u001b[0mHappened\u001b[0m\u001b[1;33m)\u001b[0m\u001b[1;33m)\u001b[0m\u001b[1;33m\u001b[0m\u001b[1;33m\u001b[0m\u001b[0m\n\u001b[0m",
      "\u001b[1;31mNameError\u001b[0m: name 'Happened' is not defined"
     ]
    }
   ],
   "source": [
    "print(random.choice(When) + \" \" + random.choice(Who) + \" named as \" + random.choice(Name) + \" lived in \" + random.choice(Address) + \" visited \" + random.choice(Went) + \" and \" + random.choice(Happened))"
   ]
  },
  {
   "cell_type": "markdown",
   "id": "860dd41e",
   "metadata": {},
   "source": [
    "# ATM Machine Generator"
   ]
  },
  {
   "cell_type": "code",
   "execution_count": 5,
   "id": "56060b68",
   "metadata": {},
   "outputs": [
    {
     "ename": "SyntaxError",
     "evalue": "invalid syntax (<ipython-input-5-502168c9ecdd>, line 1)",
     "output_type": "error",
     "traceback": [
      "\u001b[1;36m  File \u001b[1;32m\"<ipython-input-5-502168c9ecdd>\"\u001b[1;36m, line \u001b[1;32m1\u001b[0m\n\u001b[1;33m    ATM cash = 1500000\u001b[0m\n\u001b[1;37m        ^\u001b[0m\n\u001b[1;31mSyntaxError\u001b[0m\u001b[1;31m:\u001b[0m invalid syntax\n"
     ]
    }
   ],
   "source": [
    "ATM cash = 1500000\n",
    "\n",
    "if Atm_Cash != 0:\n",
    "\n",
    "import times\n",
    "\n",
    "print(\"Please Insert Your CARD\")\n",
    "\n",
    "password = 1997\n",
    "\n",
    "balance = 50000\n",
    "while True:\n",
    "    pin = int(input(\"Enter your 4 Digit Pin\"))\n",
    "\n",
    "    if pin == password:\n",
    "        print(\"\"\"\n",
    "        1 == Balance\n",
    "        2 == Withdrawls\n",
    "        3 == Deposit\n",
    "        4 == Exit\"\"\")\n",
    "    \n",
    "        print(\"choose the option mentioned\")\n",
    "        option = int(input(\"Enter your choice - \"))\n",
    "    \n",
    "        if option == 1:\n",
    "            print(f'Your Current Balance is Rs {Balance}/-')\n",
    "        if option == 2: \n",
    "            withdrawl_amount = float(input(\"Enter your Amount - \"))\n",
    "            balance = (balance - withdrawl_amount)\n",
    "            print(f'The withdrawl Amount is Rs - {withdrawl_amount}/-')\n",
    "            print(f\"The Updated Balance Amount is Rs - {balance}/-\")\n",
    "        if option == 3:\n",
    "            deposit_amount = float(input(\"Enter your Amount - \"))\n",
    "            balance = (balance + deposite_amount) \n",
    "            print(f\"Rs. {deposite_amount}/ - is credited to your bank account\")\n",
    "            print(f\"The Updated Balance amount is Rs - {balance}/-\")\n",
    "        if option == 4:\n",
    "            print(\"Thank you for coming to the ATM\")\n",
    "    else:\n",
    "            print(\"Incorrect pin\")"
   ]
  },
  {
   "cell_type": "code",
   "execution_count": null,
   "id": "8a8a2384",
   "metadata": {},
   "outputs": [],
   "source": [
    "While Condition:\n",
    "    statement"
   ]
  },
  {
   "cell_type": "code",
   "execution_count": null,
   "id": "128a93f0",
   "metadata": {},
   "outputs": [],
   "source": [
    "i = 0\n",
    "while i<=6:\n",
    "    print(i)\n",
    "    i = i+1"
   ]
  },
  {
   "cell_type": "code",
   "execution_count": null,
   "id": "def9f8e8",
   "metadata": {},
   "outputs": [],
   "source": [
    "##### Create a Calculater Also\n",
    "\n",
    "### Data Structure - Set\n",
    "If we want to represent a group of unique value as an single entity, then we can use set. \n",
    "\n",
    "Duplicates are not allowed \n",
    "Insertion order is not preserved. But we can sort the elements \n",
    "Hetrageneous elements are allowed \n",
    "Set Object are Mutuable\n",
    "set are represent in {}\n",
    "Can apply Mathematical Operation is Set"
   ]
  },
  {
   "cell_type": "code",
   "execution_count": null,
   "id": "e20162a3",
   "metadata": {},
   "outputs": [],
   "source": [
    "s = {1,2,3}\n",
    "type(s)"
   ]
  },
  {
   "cell_type": "code",
   "execution_count": null,
   "id": "8fa4c648",
   "metadata": {},
   "outputs": [],
   "source": [
    "### creation of set \n",
    "s = {10,20,30,40}"
   ]
  },
  {
   "cell_type": "code",
   "execution_count": null,
   "id": "5a06342a",
   "metadata": {},
   "outputs": [],
   "source": [
    "s"
   ]
  },
  {
   "cell_type": "code",
   "execution_count": null,
   "id": "a249b69a",
   "metadata": {},
   "outputs": [],
   "source": [
    "s = set([10,20,30,40])"
   ]
  },
  {
   "cell_type": "code",
   "execution_count": null,
   "id": "9ef41e21",
   "metadata": {},
   "outputs": [],
   "source": [
    "l = list(range(10))"
   ]
  },
  {
   "cell_type": "code",
   "execution_count": null,
   "id": "5532d36d",
   "metadata": {},
   "outputs": [],
   "source": [
    "s = set(1)\n",
    "s"
   ]
  },
  {
   "cell_type": "code",
   "execution_count": null,
   "id": "4be668fe",
   "metadata": {},
   "outputs": [],
   "source": [
    "#### Important Function of set \n",
    "1.Add"
   ]
  },
  {
   "cell_type": "code",
   "execution_count": null,
   "id": "a6de24da",
   "metadata": {},
   "outputs": [],
   "source": [
    "s\n",
    "s.add(89)"
   ]
  },
  {
   "cell_type": "code",
   "execution_count": null,
   "id": "4f33b00e",
   "metadata": {},
   "outputs": [],
   "source": [
    "s"
   ]
  },
  {
   "cell_type": "code",
   "execution_count": null,
   "id": "a8fdc4c8",
   "metadata": {},
   "outputs": [],
   "source": [
    "2. Update"
   ]
  },
  {
   "cell_type": "code",
   "execution_count": null,
   "id": "8083cafa",
   "metadata": {},
   "outputs": [],
   "source": [
    "s.update([12,18,20,80])"
   ]
  },
  {
   "cell_type": "code",
   "execution_count": null,
   "id": "062a8f29",
   "metadata": {},
   "outputs": [],
   "source": [
    "s"
   ]
  },
  {
   "cell_type": "code",
   "execution_count": null,
   "id": "b46f1f48",
   "metadata": {},
   "outputs": [],
   "source": [
    "### Write a program to remove duplicates from list and print as list only"
   ]
  },
  {
   "cell_type": "code",
   "execution_count": null,
   "id": "cf39daf6",
   "metadata": {},
   "outputs": [],
   "source": [
    "3. Copy "
   ]
  },
  {
   "cell_type": "code",
   "execution_count": null,
   "id": "d44f2813",
   "metadata": {},
   "outputs": [],
   "source": [
    "s"
   ]
  },
  {
   "cell_type": "code",
   "execution_count": null,
   "id": "ba74b408",
   "metadata": {},
   "outputs": [],
   "source": [
    "s1 = s.copy()\n",
    "s1"
   ]
  },
  {
   "cell_type": "code",
   "execution_count": null,
   "id": "4c9761fe",
   "metadata": {},
   "outputs": [],
   "source": [
    "l = (10,20,20,40,10,70,50,70)"
   ]
  },
  {
   "cell_type": "code",
   "execution_count": null,
   "id": "ee96cb8f",
   "metadata": {},
   "outputs": [],
   "source": [
    "s = list(set(l))"
   ]
  },
  {
   "cell_type": "code",
   "execution_count": null,
   "id": "88b665fb",
   "metadata": {},
   "outputs": [],
   "source": [
    "4.pop - #### It removes and return random element from the set "
   ]
  },
  {
   "cell_type": "code",
   "execution_count": null,
   "id": "75032a34",
   "metadata": {},
   "outputs": [],
   "source": [
    "s1.pop()"
   ]
  },
  {
   "cell_type": "code",
   "execution_count": null,
   "id": "6187fec4",
   "metadata": {},
   "outputs": [],
   "source": [
    "s1"
   ]
  },
  {
   "cell_type": "code",
   "execution_count": null,
   "id": "695638d0",
   "metadata": {},
   "outputs": [],
   "source": [
    "##5. Remove\n",
    "s1.remove(22)\n",
    "s1"
   ]
  },
  {
   "cell_type": "code",
   "execution_count": null,
   "id": "0973ffec",
   "metadata": {},
   "outputs": [],
   "source": [
    "##6. Discard \n",
    "s1.discard(89)\n",
    "s1"
   ]
  },
  {
   "cell_type": "code",
   "execution_count": null,
   "id": "7048521c",
   "metadata": {},
   "outputs": [],
   "source": [
    "### Difference  between remove and discard in set is in remove if the element is not present it will throw an error, but in \n",
    "#### discard it wont throw any error"
   ]
  },
  {
   "cell_type": "code",
   "execution_count": null,
   "id": "b72aed82",
   "metadata": {},
   "outputs": [],
   "source": [
    "s1.remove(100)"
   ]
  },
  {
   "cell_type": "code",
   "execution_count": null,
   "id": "11c3fe6f",
   "metadata": {},
   "outputs": [],
   "source": [
    "s1.discard(100)"
   ]
  },
  {
   "cell_type": "code",
   "execution_count": null,
   "id": "e240ee73",
   "metadata": {},
   "outputs": [],
   "source": [
    "### 7. clear()\n",
    "s1.clear()\n",
    "s1"
   ]
  },
  {
   "cell_type": "code",
   "execution_count": null,
   "id": "54a78d21",
   "metadata": {},
   "outputs": [],
   "source": [
    "## Mathematical operation in set \n",
    "## 1. Union\n",
    "we can return all the elements present in both the sets \n",
    "x.union(y) or x|y"
   ]
  },
  {
   "cell_type": "code",
   "execution_count": null,
   "id": "d14a64e2",
   "metadata": {},
   "outputs": [],
   "source": [
    "x = {10,20,30,40}\n",
    "y = {30,40,50,60}\n",
    "\n",
    "print(x.intersection(y))\n",
    "print(x&y)"
   ]
  },
  {
   "cell_type": "code",
   "execution_count": null,
   "id": "3ed169d5",
   "metadata": {},
   "outputs": [],
   "source": [
    "### 3. Difference - return the element present in x but not in y\n",
    "print(x.difference(y))\n",
    "print(x-y)\n",
    "print(y-x)"
   ]
  },
  {
   "cell_type": "code",
   "execution_count": null,
   "id": "27f94ba6",
   "metadata": {},
   "outputs": [],
   "source": [
    "#### 4. Symetric Difference - return elements present in either x or y but not in both \n",
    "print(x.symmetric_difference(y))\n",
    "print(x^y)"
   ]
  },
  {
   "cell_type": "code",
   "execution_count": null,
   "id": "355a3d5d",
   "metadata": {},
   "outputs": [],
   "source": [
    "l = sorted(x,revere = True)"
   ]
  },
  {
   "cell_type": "code",
   "execution_count": null,
   "id": "8aa88c4b",
   "metadata": {},
   "outputs": [],
   "source": [
    "set(l)"
   ]
  },
  {
   "cell_type": "code",
   "execution_count": null,
   "id": "140853b5",
   "metadata": {},
   "outputs": [],
   "source": [
    "l.add(\"Tulsi\")"
   ]
  },
  {
   "cell_type": "code",
   "execution_count": null,
   "id": "f08fdf34",
   "metadata": {},
   "outputs": [],
   "source": [
    "l.add(100)"
   ]
  },
  {
   "cell_type": "code",
   "execution_count": null,
   "id": "dfde5563",
   "metadata": {},
   "outputs": [],
   "source": [
    "l.add('Pihu')"
   ]
  },
  {
   "cell_type": "code",
   "execution_count": null,
   "id": "d8475498",
   "metadata": {},
   "outputs": [],
   "source": [
    "l"
   ]
  },
  {
   "cell_type": "code",
   "execution_count": null,
   "id": "32ba075e",
   "metadata": {},
   "outputs": [],
   "source": [
    "### Membership operators\n",
    "(in and not in)"
   ]
  },
  {
   "cell_type": "code",
   "execution_count": null,
   "id": "6a49737c",
   "metadata": {},
   "outputs": [],
   "source": [
    "l"
   ]
  },
  {
   "cell_type": "code",
   "execution_count": null,
   "id": "37ac59c2",
   "metadata": {},
   "outputs": [],
   "source": [
    "print('Pihu' not in l)"
   ]
  },
  {
   "cell_type": "code",
   "execution_count": null,
   "id": "17897b7a",
   "metadata": {},
   "outputs": [],
   "source": [
    "#### Write a program to print different vowels present in a given word. Also take the word from the user(a,e,i,o,u)"
   ]
  },
  {
   "cell_type": "code",
   "execution_count": null,
   "id": "15488684",
   "metadata": {},
   "outputs": [],
   "source": [
    "w = input(\"Enter the word to find the vowel - \")\n",
    "s = set(w)\n",
    "print(s)\n",
    "v = {'a','e','i','o','u'}\n",
    "d = s.intersection(v)\n",
    "print(:\"The vowels are as\",d)"
   ]
  }
 ],
 "metadata": {
  "kernelspec": {
   "display_name": "Python 3",
   "language": "python",
   "name": "python3"
  },
  "language_info": {
   "codemirror_mode": {
    "name": "ipython",
    "version": 3
   },
   "file_extension": ".py",
   "mimetype": "text/x-python",
   "name": "python",
   "nbconvert_exporter": "python",
   "pygments_lexer": "ipython3",
   "version": "3.8.8"
  }
 },
 "nbformat": 4,
 "nbformat_minor": 5
}
