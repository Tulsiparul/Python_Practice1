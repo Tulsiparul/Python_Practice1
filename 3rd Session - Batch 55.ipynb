{
 "cells": [
  {
   "cell_type": "code",
   "execution_count": null,
   "id": "594cc225",
   "metadata": {},
   "outputs": [],
   "source": [
    "### we can convert one type value to another type value. This type of conversion is called \n",
    "## as type casting type coersion.\n",
    "### The Following are the various inbuilt \n",
    "1. "
   ]
  },
  {
   "cell_type": "code",
   "execution_count": 1,
   "id": "ef1f10b8",
   "metadata": {},
   "outputs": [
    {
     "data": {
      "text/plain": [
       "133456"
      ]
     },
     "execution_count": 1,
     "metadata": {},
     "output_type": "execute_result"
    }
   ],
   "source": [
    "### 1. Int\n",
    "int(133456.789)"
   ]
  },
  {
   "cell_type": "code",
   "execution_count": 4,
   "id": "2058c941",
   "metadata": {
    "collapsed": true
   },
   "outputs": [
    {
     "ename": "TypeError",
     "evalue": "can't convert complex to int",
     "output_type": "error",
     "traceback": [
      "\u001b[1;31m---------------------------------------------------------------------------\u001b[0m",
      "\u001b[1;31mTypeError\u001b[0m                                 Traceback (most recent call last)",
      "\u001b[1;32m<ipython-input-4-aeeb86d69c41>\u001b[0m in \u001b[0;36m<module>\u001b[1;34m\u001b[0m\n\u001b[1;32m----> 1\u001b[1;33m \u001b[0mint\u001b[0m\u001b[1;33m(\u001b[0m\u001b[1;36m10\u001b[0m\u001b[1;33m+\u001b[0m\u001b[1;36m5j\u001b[0m\u001b[1;33m)\u001b[0m\u001b[1;33m\u001b[0m\u001b[1;33m\u001b[0m\u001b[0m\n\u001b[0m",
      "\u001b[1;31mTypeError\u001b[0m: can't convert complex to int"
     ]
    }
   ],
   "source": [
    "int(10+5j)"
   ]
  },
  {
   "cell_type": "code",
   "execution_count": 3,
   "id": "11470858",
   "metadata": {},
   "outputs": [
    {
     "data": {
      "text/plain": [
       "1"
      ]
     },
     "execution_count": 3,
     "metadata": {},
     "output_type": "execute_result"
    }
   ],
   "source": [
    "int(True)"
   ]
  },
  {
   "cell_type": "code",
   "execution_count": 5,
   "id": "aa8e36f7",
   "metadata": {},
   "outputs": [
    {
     "data": {
      "text/plain": [
       "0"
      ]
     },
     "execution_count": 5,
     "metadata": {},
     "output_type": "execute_result"
    }
   ],
   "source": [
    "int(False)"
   ]
  },
  {
   "cell_type": "code",
   "execution_count": 1,
   "id": "3f8e8cec",
   "metadata": {},
   "outputs": [
    {
     "data": {
      "text/plain": [
       "int"
      ]
     },
     "execution_count": 1,
     "metadata": {},
     "output_type": "execute_result"
    }
   ],
   "source": [
    "a = \"10\"  ###  we know that 10 is an literal 10(base - 10)\n",
    "a = int(a)\n",
    "type(a)"
   ]
  },
  {
   "cell_type": "code",
   "execution_count": 9,
   "id": "21413683",
   "metadata": {
    "collapsed": true
   },
   "outputs": [
    {
     "ename": "ValueError",
     "evalue": "invalid literal for int() with base 10: '10.5'",
     "output_type": "error",
     "traceback": [
      "\u001b[1;31m---------------------------------------------------------------------------\u001b[0m",
      "\u001b[1;31mValueError\u001b[0m                                Traceback (most recent call last)",
      "\u001b[1;32m<ipython-input-9-d05ceda9b0d1>\u001b[0m in \u001b[0;36m<module>\u001b[1;34m\u001b[0m\n\u001b[0;32m      1\u001b[0m \u001b[0ma\u001b[0m \u001b[1;33m=\u001b[0m \u001b[1;34m\"10.5\"\u001b[0m\u001b[1;33m\u001b[0m\u001b[1;33m\u001b[0m\u001b[0m\n\u001b[1;32m----> 2\u001b[1;33m \u001b[0ma\u001b[0m \u001b[1;33m=\u001b[0m \u001b[0mint\u001b[0m\u001b[1;33m(\u001b[0m\u001b[0ma\u001b[0m\u001b[1;33m)\u001b[0m\u001b[1;33m\u001b[0m\u001b[1;33m\u001b[0m\u001b[0m\n\u001b[0m\u001b[0;32m      3\u001b[0m \u001b[0mtype\u001b[0m\u001b[1;33m(\u001b[0m\u001b[0ma\u001b[0m\u001b[1;33m)\u001b[0m\u001b[1;33m\u001b[0m\u001b[1;33m\u001b[0m\u001b[0m\n",
      "\u001b[1;31mValueError\u001b[0m: invalid literal for int() with base 10: '10.5'"
     ]
    }
   ],
   "source": [
    "a = \"10.5\"\n",
    "a = int(a)\n",
    "type(a)"
   ]
  },
  {
   "cell_type": "code",
   "execution_count": 2,
   "id": "d3fa4539",
   "metadata": {
    "collapsed": true
   },
   "outputs": [
    {
     "ename": "ValueError",
     "evalue": "invalid literal for int() with base 10: '0B1111'",
     "output_type": "error",
     "traceback": [
      "\u001b[1;31m---------------------------------------------------------------------------\u001b[0m",
      "\u001b[1;31mValueError\u001b[0m                                Traceback (most recent call last)",
      "\u001b[1;32m<ipython-input-2-0f3a8d756b59>\u001b[0m in \u001b[0;36m<module>\u001b[1;34m\u001b[0m\n\u001b[1;32m----> 1\u001b[1;33m \u001b[0mint\u001b[0m\u001b[1;33m(\u001b[0m\u001b[1;34m\"0B1111\"\u001b[0m\u001b[1;33m)\u001b[0m\u001b[1;33m\u001b[0m\u001b[1;33m\u001b[0m\u001b[0m\n\u001b[0m",
      "\u001b[1;31mValueError\u001b[0m: invalid literal for int() with base 10: '0B1111'"
     ]
    }
   ],
   "source": [
    "int(\"0B1111\")"
   ]
  },
  {
   "cell_type": "code",
   "execution_count": null,
   "id": "66291153",
   "metadata": {},
   "outputs": [],
   "source": [
    "##Note - \n",
    "1. We can convert rom any type to int except complex \n",
    "2. I we want convert str type to int type , Compulsary str should contain\n",
    "only integral value and should be speciied in base-10"
   ]
  },
  {
   "cell_type": "code",
   "execution_count": null,
   "id": "30c99ba7",
   "metadata": {},
   "outputs": [],
   "source": [
    "2. Float"
   ]
  },
  {
   "cell_type": "code",
   "execution_count": 3,
   "id": "38aac186",
   "metadata": {},
   "outputs": [
    {
     "data": {
      "text/plain": [
       "10.0"
      ]
     },
     "execution_count": 3,
     "metadata": {},
     "output_type": "execute_result"
    }
   ],
   "source": [
    "float(10) "
   ]
  },
  {
   "cell_type": "code",
   "execution_count": 10,
   "id": "5e3d598b",
   "metadata": {},
   "outputs": [
    {
     "data": {
      "text/plain": [
       "10.0"
      ]
     },
     "execution_count": 10,
     "metadata": {},
     "output_type": "execute_result"
    }
   ],
   "source": [
    "float(10)"
   ]
  },
  {
   "cell_type": "code",
   "execution_count": 20,
   "id": "a36229cc",
   "metadata": {
    "collapsed": true
   },
   "outputs": [
    {
     "ename": "TypeError",
     "evalue": "can't convert complex to float",
     "output_type": "error",
     "traceback": [
      "\u001b[1;31m---------------------------------------------------------------------------\u001b[0m",
      "\u001b[1;31mTypeError\u001b[0m                                 Traceback (most recent call last)",
      "\u001b[1;32m<ipython-input-20-d2f956539d9b>\u001b[0m in \u001b[0;36m<module>\u001b[1;34m\u001b[0m\n\u001b[1;32m----> 1\u001b[1;33m \u001b[0mfloat\u001b[0m\u001b[1;33m(\u001b[0m\u001b[1;36m10\u001b[0m\u001b[1;33m+\u001b[0m\u001b[1;36m5j\u001b[0m\u001b[1;33m)\u001b[0m\u001b[1;33m\u001b[0m\u001b[1;33m\u001b[0m\u001b[0m\n\u001b[0m",
      "\u001b[1;31mTypeError\u001b[0m: can't convert complex to float"
     ]
    }
   ],
   "source": [
    "float(10+5j)"
   ]
  },
  {
   "cell_type": "code",
   "execution_count": 13,
   "id": "b9d61a11",
   "metadata": {},
   "outputs": [
    {
     "data": {
      "text/plain": [
       "1.0"
      ]
     },
     "execution_count": 13,
     "metadata": {},
     "output_type": "execute_result"
    }
   ],
   "source": [
    "float(True)"
   ]
  },
  {
   "cell_type": "code",
   "execution_count": 14,
   "id": "7bdc7117",
   "metadata": {},
   "outputs": [
    {
     "data": {
      "text/plain": [
       "0.0"
      ]
     },
     "execution_count": 14,
     "metadata": {},
     "output_type": "execute_result"
    }
   ],
   "source": [
    "float(False)"
   ]
  },
  {
   "cell_type": "code",
   "execution_count": 15,
   "id": "6691184a",
   "metadata": {},
   "outputs": [
    {
     "data": {
      "text/plain": [
       "10.5"
      ]
     },
     "execution_count": 15,
     "metadata": {},
     "output_type": "execute_result"
    }
   ],
   "source": [
    "float(\"10.5\")"
   ]
  },
  {
   "cell_type": "code",
   "execution_count": 16,
   "id": "e0b7d9e7",
   "metadata": {
    "collapsed": true
   },
   "outputs": [
    {
     "ename": "ValueError",
     "evalue": "could not convert string to float: 'Ten'",
     "output_type": "error",
     "traceback": [
      "\u001b[1;31m---------------------------------------------------------------------------\u001b[0m",
      "\u001b[1;31mValueError\u001b[0m                                Traceback (most recent call last)",
      "\u001b[1;32m<ipython-input-16-752e753652b4>\u001b[0m in \u001b[0;36m<module>\u001b[1;34m\u001b[0m\n\u001b[1;32m----> 1\u001b[1;33m \u001b[0mfloat\u001b[0m\u001b[1;33m(\u001b[0m\u001b[1;34m\"Ten\"\u001b[0m\u001b[1;33m)\u001b[0m\u001b[1;33m\u001b[0m\u001b[1;33m\u001b[0m\u001b[0m\n\u001b[0m",
      "\u001b[1;31mValueError\u001b[0m: could not convert string to float: 'Ten'"
     ]
    }
   ],
   "source": [
    "float(\"Ten\")"
   ]
  },
  {
   "cell_type": "code",
   "execution_count": 17,
   "id": "2f35349a",
   "metadata": {
    "collapsed": true
   },
   "outputs": [
    {
     "ename": "ValueError",
     "evalue": "could not convert string to float: '0B1111'",
     "output_type": "error",
     "traceback": [
      "\u001b[1;31m---------------------------------------------------------------------------\u001b[0m",
      "\u001b[1;31mValueError\u001b[0m                                Traceback (most recent call last)",
      "\u001b[1;32m<ipython-input-17-62ed3c7df456>\u001b[0m in \u001b[0;36m<module>\u001b[1;34m\u001b[0m\n\u001b[1;32m----> 1\u001b[1;33m \u001b[0mfloat\u001b[0m\u001b[1;33m(\u001b[0m\u001b[1;34m\"0B1111\"\u001b[0m\u001b[1;33m)\u001b[0m\u001b[1;33m\u001b[0m\u001b[1;33m\u001b[0m\u001b[0m\n\u001b[0m",
      "\u001b[1;31mValueError\u001b[0m: could not convert string to float: '0B1111'"
     ]
    }
   ],
   "source": [
    "float(\"0B1111\")"
   ]
  },
  {
   "cell_type": "code",
   "execution_count": null,
   "id": "01748b66",
   "metadata": {},
   "outputs": [],
   "source": [
    "## Note - \n",
    "1. We can convert any type of value to float type except complex type\n",
    "2. whenever we are trying to convert str to float type compulsory str should be either integral (whole number)\n",
    "or floating point literal and should be specified only in base-10"
   ]
  },
  {
   "cell_type": "code",
   "execution_count": null,
   "id": "5b5fc88a",
   "metadata": {},
   "outputs": [],
   "source": [
    "3. Complex"
   ]
  },
  {
   "cell_type": "code",
   "execution_count": 4,
   "id": "b226ccea",
   "metadata": {},
   "outputs": [
    {
     "data": {
      "text/plain": [
       "(10+0j)"
      ]
     },
     "execution_count": 4,
     "metadata": {},
     "output_type": "execute_result"
    }
   ],
   "source": [
    "complex(10)"
   ]
  },
  {
   "cell_type": "code",
   "execution_count": 5,
   "id": "5676bcd8",
   "metadata": {},
   "outputs": [
    {
     "data": {
      "text/plain": [
       "(10.5+0j)"
      ]
     },
     "execution_count": 5,
     "metadata": {},
     "output_type": "execute_result"
    }
   ],
   "source": [
    "complex(10.5)"
   ]
  },
  {
   "cell_type": "code",
   "execution_count": 6,
   "id": "77c45a7b",
   "metadata": {},
   "outputs": [
    {
     "data": {
      "text/plain": [
       "(1+0j)"
      ]
     },
     "execution_count": 6,
     "metadata": {},
     "output_type": "execute_result"
    }
   ],
   "source": [
    "complex(True)"
   ]
  },
  {
   "cell_type": "code",
   "execution_count": 7,
   "id": "f415ae94",
   "metadata": {
    "collapsed": true
   },
   "outputs": [
    {
     "ename": "SyntaxError",
     "evalue": "invalid syntax (<ipython-input-7-7ef174fb1171>, line 1)",
     "output_type": "error",
     "traceback": [
      "\u001b[1;36m  File \u001b[1;32m\"<ipython-input-7-7ef174fb1171>\"\u001b[1;36m, line \u001b[1;32m1\u001b[0m\n\u001b[1;33m    complex\"Ten\"\u001b[0m\n\u001b[1;37m           ^\u001b[0m\n\u001b[1;31mSyntaxError\u001b[0m\u001b[1;31m:\u001b[0m invalid syntax\n"
     ]
    }
   ],
   "source": [
    "complex\"Ten\""
   ]
  },
  {
   "cell_type": "code",
   "execution_count": 8,
   "id": "30f2bcae",
   "metadata": {},
   "outputs": [
    {
     "data": {
      "text/plain": [
       "(10+2j)"
      ]
     },
     "execution_count": 8,
     "metadata": {},
     "output_type": "execute_result"
    }
   ],
   "source": [
    "complex(10,2)"
   ]
  },
  {
   "cell_type": "code",
   "execution_count": 10,
   "id": "16d37394",
   "metadata": {},
   "outputs": [
    {
     "data": {
      "text/plain": [
       "(10-2j)"
      ]
     },
     "execution_count": 10,
     "metadata": {},
     "output_type": "execute_result"
    }
   ],
   "source": [
    "complex(10, -2)"
   ]
  },
  {
   "cell_type": "code",
   "execution_count": 9,
   "id": "a28276da",
   "metadata": {},
   "outputs": [
    {
     "data": {
      "text/plain": [
       "(1+0j)"
      ]
     },
     "execution_count": 9,
     "metadata": {},
     "output_type": "execute_result"
    }
   ],
   "source": [
    "complex(True, False)"
   ]
  },
  {
   "cell_type": "code",
   "execution_count": null,
   "id": "9d3ecfce",
   "metadata": {},
   "outputs": [],
   "source": [
    "4. Bool Data Type"
   ]
  },
  {
   "cell_type": "code",
   "execution_count": 11,
   "id": "a895fdb4",
   "metadata": {},
   "outputs": [
    {
     "data": {
      "text/plain": [
       "True"
      ]
     },
     "execution_count": 11,
     "metadata": {},
     "output_type": "execute_result"
    }
   ],
   "source": [
    "bool(10)"
   ]
  },
  {
   "cell_type": "code",
   "execution_count": 12,
   "id": "f2baf68f",
   "metadata": {},
   "outputs": [
    {
     "data": {
      "text/plain": [
       "True"
      ]
     },
     "execution_count": 12,
     "metadata": {},
     "output_type": "execute_result"
    }
   ],
   "source": [
    "bool(0+1.5)"
   ]
  },
  {
   "cell_type": "code",
   "execution_count": null,
   "id": "138ac511",
   "metadata": {},
   "outputs": [],
   "source": [
    "Bool Note :- \n",
    "    if x is int Data Type\n",
    "    1. 0 means False \n",
    "    2. 1 means True\n",
    "    \n",
    "    if x is flot data type \n",
    "    1. If total number value is zero then the result is false or else its True\n",
    "    \n",
    "    if x is complex data type \n",
    "    1. if both real and imaginary part are 0 i.e 0+0j then result is False or else its True\n",
    "    \n",
    "    if x is a str data type \n",
    "    1. If x is empty str then the result is False else True "
   ]
  },
  {
   "cell_type": "code",
   "execution_count": null,
   "id": "b2f6426b",
   "metadata": {},
   "outputs": [],
   "source": [
    "5. str data type"
   ]
  },
  {
   "cell_type": "code",
   "execution_count": 13,
   "id": "3cce3bb4",
   "metadata": {},
   "outputs": [
    {
     "data": {
      "text/plain": [
       "'10'"
      ]
     },
     "execution_count": 13,
     "metadata": {},
     "output_type": "execute_result"
    }
   ],
   "source": [
    "str(10)"
   ]
  },
  {
   "cell_type": "code",
   "execution_count": 14,
   "id": "a453b05b",
   "metadata": {},
   "outputs": [
    {
     "data": {
      "text/plain": [
       "'10.5'"
      ]
     },
     "execution_count": 14,
     "metadata": {},
     "output_type": "execute_result"
    }
   ],
   "source": [
    "str(10.5)"
   ]
  },
  {
   "cell_type": "code",
   "execution_count": 15,
   "id": "85503732",
   "metadata": {},
   "outputs": [
    {
     "data": {
      "text/plain": [
       "'(10+5j)'"
      ]
     },
     "execution_count": 15,
     "metadata": {},
     "output_type": "execute_result"
    }
   ],
   "source": [
    "str(10+5j)"
   ]
  },
  {
   "cell_type": "code",
   "execution_count": 16,
   "id": "bc1b4618",
   "metadata": {},
   "outputs": [
    {
     "data": {
      "text/plain": [
       "'True'"
      ]
     },
     "execution_count": 16,
     "metadata": {},
     "output_type": "execute_result"
    }
   ],
   "source": [
    "str(True)"
   ]
  },
  {
   "cell_type": "code",
   "execution_count": 17,
   "id": "e82d4c24",
   "metadata": {},
   "outputs": [
    {
     "data": {
      "text/plain": [
       "'False'"
      ]
     },
     "execution_count": 17,
     "metadata": {},
     "output_type": "execute_result"
    }
   ],
   "source": [
    "str(False)"
   ]
  },
  {
   "cell_type": "code",
   "execution_count": null,
   "id": "efe8d00b",
   "metadata": {},
   "outputs": [],
   "source": [
    "Bytes data type "
   ]
  },
  {
   "cell_type": "code",
   "execution_count": null,
   "id": "e637453f",
   "metadata": {},
   "outputs": [],
   "source": [
    "Bytes data type basically represent a group of byte number just like an error \n",
    "It will basically convert you code to a byte Code (Byte code is a low level representation of your source code)"
   ]
  },
  {
   "cell_type": "code",
   "execution_count": 29,
   "id": "015d63f6",
   "metadata": {},
   "outputs": [
    {
     "data": {
      "text/plain": [
       "([10, 20, 30, 100], list)"
      ]
     },
     "execution_count": 29,
     "metadata": {},
     "output_type": "execute_result"
    }
   ],
   "source": [
    "x = [10,20,30,100]\n",
    "x, type(x)"
   ]
  },
  {
   "cell_type": "code",
   "execution_count": 30,
   "id": "35697af2",
   "metadata": {},
   "outputs": [],
   "source": [
    "b = bytes(x)"
   ]
  },
  {
   "cell_type": "code",
   "execution_count": 22,
   "id": "9033c144",
   "metadata": {},
   "outputs": [
    {
     "data": {
      "text/plain": [
       "bytes"
      ]
     },
     "execution_count": 22,
     "metadata": {},
     "output_type": "execute_result"
    }
   ],
   "source": [
    "type(b)"
   ]
  },
  {
   "cell_type": "code",
   "execution_count": 23,
   "id": "6322365c",
   "metadata": {},
   "outputs": [
    {
     "name": "stdout",
     "output_type": "stream",
     "text": [
      "10\n"
     ]
    }
   ],
   "source": [
    "print(b[0])"
   ]
  },
  {
   "cell_type": "code",
   "execution_count": 24,
   "id": "b1ec8414",
   "metadata": {},
   "outputs": [
    {
     "name": "stdout",
     "output_type": "stream",
     "text": [
      "10\n",
      "20\n",
      "30\n",
      "50\n"
     ]
    }
   ],
   "source": [
    "for i in b:\n",
    "    print(i)"
   ]
  },
  {
   "cell_type": "code",
   "execution_count": null,
   "id": "6d725ab8",
   "metadata": {},
   "outputs": [],
   "source": [
    "##### Note - The only allowed values for byte data type are 0 to 256(255)\n",
    "Once we create bytes data type value, we cannot change the values, otherwise we will get type error.\n",
    "#### Its Immutable"
   ]
  },
  {
   "cell_type": "code",
   "execution_count": 31,
   "id": "59f59f3b",
   "metadata": {},
   "outputs": [
    {
     "ename": "TypeError",
     "evalue": "'bytes' object does not support item assignment",
     "output_type": "error",
     "traceback": [
      "\u001b[1;31m---------------------------------------------------------------------------\u001b[0m",
      "\u001b[1;31mTypeError\u001b[0m                                 Traceback (most recent call last)",
      "\u001b[1;32m<ipython-input-31-466bc28fc45f>\u001b[0m in \u001b[0;36m<module>\u001b[1;34m\u001b[0m\n\u001b[1;32m----> 1\u001b[1;33m \u001b[0mb\u001b[0m\u001b[1;33m[\u001b[0m\u001b[1;36m0\u001b[0m\u001b[1;33m]\u001b[0m \u001b[1;33m=\u001b[0m \u001b[1;36m100\u001b[0m\u001b[1;33m\u001b[0m\u001b[1;33m\u001b[0m\u001b[0m\n\u001b[0m",
      "\u001b[1;31mTypeError\u001b[0m: 'bytes' object does not support item assignment"
     ]
    }
   ],
   "source": [
    "b[0] = 100"
   ]
  },
  {
   "cell_type": "code",
   "execution_count": null,
   "id": "d67f2f7c",
   "metadata": {},
   "outputs": [],
   "source": [
    "Bytearray data type \n",
    "### Everything is same as byte data type except that its element can be modified"
   ]
  },
  {
   "cell_type": "code",
   "execution_count": 32,
   "id": "954ef0ba",
   "metadata": {},
   "outputs": [
    {
     "data": {
      "text/plain": [
       "[10, 20, 30, 100]"
      ]
     },
     "execution_count": 32,
     "metadata": {},
     "output_type": "execute_result"
    }
   ],
   "source": [
    "x"
   ]
  },
  {
   "cell_type": "code",
   "execution_count": 33,
   "id": "80ee58d3",
   "metadata": {},
   "outputs": [],
   "source": [
    "b = bytearray(x)"
   ]
  },
  {
   "cell_type": "code",
   "execution_count": 34,
   "id": "830d6b0d",
   "metadata": {},
   "outputs": [],
   "source": [
    "b[0] = 100"
   ]
  },
  {
   "cell_type": "code",
   "execution_count": 35,
   "id": "f2852999",
   "metadata": {},
   "outputs": [
    {
     "name": "stdout",
     "output_type": "stream",
     "text": [
      "100\n",
      "20\n",
      "30\n",
      "100\n"
     ]
    }
   ],
   "source": [
    "for i in b:\n",
    "    print(i)"
   ]
  },
  {
   "cell_type": "code",
   "execution_count": null,
   "id": "da42af30",
   "metadata": {},
   "outputs": [],
   "source": [
    "List"
   ]
  },
  {
   "cell_type": "code",
   "execution_count": null,
   "id": "cff4d1f8",
   "metadata": {},
   "outputs": [],
   "source": [
    "### If we want to represent a group of values as a single entity where insertion order required\n",
    "### To preserve and duplicate are allowed then we should go for list data type "
   ]
  },
  {
   "cell_type": "markdown",
   "id": "36cd448f",
   "metadata": {},
   "source": [
    "Rules -\n",
    "1. Insertion order is Preserved\n",
    "2. Heterogenous Object are allowed \n",
    "3. Duplicated are allowed \n",
    "4. Growable in Nature \n",
    "5. The values should be enclosed in square bracket []\n",
    "6. List is Mutable object - Values/Elements can be modified "
   ]
  },
  {
   "cell_type": "code",
   "execution_count": 41,
   "id": "d95e4fcc",
   "metadata": {},
   "outputs": [
    {
     "data": {
      "text/plain": [
       "([10, 20, 30, 40, 50], list)"
      ]
     },
     "execution_count": 41,
     "metadata": {},
     "output_type": "execute_result"
    }
   ],
   "source": [
    "l = [10,20,30,40,50]  ### L is a variable\n",
    "l,type(l)"
   ]
  },
  {
   "cell_type": "code",
   "execution_count": 43,
   "id": "83f3953c",
   "metadata": {},
   "outputs": [
    {
     "data": {
      "text/plain": [
       "int"
      ]
     },
     "execution_count": 43,
     "metadata": {},
     "output_type": "execute_result"
    }
   ],
   "source": [
    "type(l[0]) ## Data Type"
   ]
  },
  {
   "cell_type": "code",
   "execution_count": 44,
   "id": "789f3ce5",
   "metadata": {},
   "outputs": [],
   "source": [
    "l = [12, 10.56,\"Ram\", True, (10+5j)] ## Hetrogenous data type can be preserved with order in list"
   ]
  },
  {
   "cell_type": "code",
   "execution_count": 45,
   "id": "edc7e436",
   "metadata": {},
   "outputs": [
    {
     "data": {
      "text/plain": [
       "complex"
      ]
     },
     "execution_count": 45,
     "metadata": {},
     "output_type": "execute_result"
    }
   ],
   "source": [
    "type(l[4])"
   ]
  },
  {
   "cell_type": "code",
   "execution_count": 51,
   "id": "04fc1b15",
   "metadata": {},
   "outputs": [],
   "source": [
    "l.append(58643)"
   ]
  },
  {
   "cell_type": "code",
   "execution_count": 52,
   "id": "13e48077",
   "metadata": {},
   "outputs": [
    {
     "data": {
      "text/plain": [
       "[12, 10.56, 'Ram', True, (10+5j), 586431, 55879466422, 58643]"
      ]
     },
     "execution_count": 52,
     "metadata": {},
     "output_type": "execute_result"
    }
   ],
   "source": [
    "l"
   ]
  },
  {
   "cell_type": "code",
   "execution_count": 55,
   "id": "06379901",
   "metadata": {},
   "outputs": [],
   "source": [
    "l[1] = 1500   #### List is a mutuable object "
   ]
  },
  {
   "cell_type": "code",
   "execution_count": 56,
   "id": "a48d7c9e",
   "metadata": {},
   "outputs": [
    {
     "name": "stdout",
     "output_type": "stream",
     "text": [
      "[12, 1500, 'Ram', True, (10+5j), 586431, 55879466422, 58643]\n"
     ]
    }
   ],
   "source": [
    "print(l)"
   ]
  },
  {
   "cell_type": "code",
   "execution_count": null,
   "id": "92ff7dfa",
   "metadata": {},
   "outputs": [],
   "source": [
    "1. By using Index:"
   ]
  },
  {
   "cell_type": "code",
   "execution_count": 57,
   "id": "46fee96b",
   "metadata": {
    "collapsed": true
   },
   "outputs": [
    {
     "ename": "SyntaxError",
     "evalue": "invalid syntax (<ipython-input-57-3741a5f6b025>, line 1)",
     "output_type": "error",
     "traceback": [
      "\u001b[1;36m  File \u001b[1;32m\"<ipython-input-57-3741a5f6b025>\"\u001b[1;36m, line \u001b[1;32m1\u001b[0m\n\u001b[1;33m    List follows zero based Index,i.e 1st element will be 0\u001b[0m\n\u001b[1;37m         ^\u001b[0m\n\u001b[1;31mSyntaxError\u001b[0m\u001b[1;31m:\u001b[0m invalid syntax\n"
     ]
    }
   ],
   "source": [
    "List follows zero based Index,i.e 1st element will be 0\n",
    "It support both +ve(left to right), -ve(right to left)"
   ]
  },
  {
   "cell_type": "code",
   "execution_count": 58,
   "id": "a0063d55",
   "metadata": {
    "collapsed": true
   },
   "outputs": [
    {
     "ename": "NameError",
     "evalue": "name 'start' is not defined",
     "output_type": "error",
     "traceback": [
      "\u001b[1;31m---------------------------------------------------------------------------\u001b[0m",
      "\u001b[1;31mNameError\u001b[0m                                 Traceback (most recent call last)",
      "\u001b[1;32m<ipython-input-58-d3f0db12f9e5>\u001b[0m in \u001b[0;36m<module>\u001b[1;34m\u001b[0m\n\u001b[1;32m----> 1\u001b[1;33m \u001b[0mlist\u001b[0m\u001b[1;33m[\u001b[0m\u001b[0mstart\u001b[0m \u001b[1;33m:\u001b[0m \u001b[0mstop\u001b[0m \u001b[1;33m:\u001b[0m \u001b[0mstep\u001b[0m\u001b[1;33m]\u001b[0m\u001b[1;33m\u001b[0m\u001b[1;33m\u001b[0m\u001b[0m\n\u001b[0m",
      "\u001b[1;31mNameError\u001b[0m: name 'start' is not defined"
     ]
    }
   ],
   "source": [
    "list[start : stop : step]"
   ]
  },
  {
   "cell_type": "code",
   "execution_count": 59,
   "id": "2d76cc9d",
   "metadata": {},
   "outputs": [],
   "source": [
    "n = [5,45,25,78,64,78]"
   ]
  },
  {
   "cell_type": "code",
   "execution_count": 60,
   "id": "6a93f036",
   "metadata": {},
   "outputs": [
    {
     "name": "stdout",
     "output_type": "stream",
     "text": [
      "[25, 78]\n"
     ]
    }
   ],
   "source": [
    "print(n[2:7:3])"
   ]
  },
  {
   "cell_type": "code",
   "execution_count": 61,
   "id": "cd4ddb61",
   "metadata": {},
   "outputs": [
    {
     "name": "stdout",
     "output_type": "stream",
     "text": [
      "[64, 78]\n"
     ]
    }
   ],
   "source": [
    "print(n[4:100])"
   ]
  },
  {
   "cell_type": "code",
   "execution_count": 63,
   "id": "ac0547e3",
   "metadata": {},
   "outputs": [
    {
     "name": "stdout",
     "output_type": "stream",
     "text": [
      "[78, 78]\n"
     ]
    }
   ],
   "source": [
    "print(n[8:2:-2])"
   ]
  },
  {
   "cell_type": "code",
   "execution_count": null,
   "id": "34ec0a43",
   "metadata": {},
   "outputs": [],
   "source": [
    "### Transversy the element 0 list \n",
    "### Sequentially accessing each element in the list is called as transversal"
   ]
  },
  {
   "cell_type": "code",
   "execution_count": 64,
   "id": "c749262e",
   "metadata": {},
   "outputs": [
    {
     "data": {
      "text/plain": [
       "[5, 45, 25, 78, 64, 78]"
      ]
     },
     "execution_count": 64,
     "metadata": {},
     "output_type": "execute_result"
    }
   ],
   "source": [
    "n"
   ]
  },
  {
   "cell_type": "code",
   "execution_count": 65,
   "id": "e8f811d8",
   "metadata": {},
   "outputs": [
    {
     "name": "stdout",
     "output_type": "stream",
     "text": [
      "5\n",
      "45\n",
      "25\n",
      "78\n",
      "64\n",
      "78\n"
     ]
    }
   ],
   "source": [
    "for i in n:\n",
    "    print(i)"
   ]
  },
  {
   "cell_type": "code",
   "execution_count": 68,
   "id": "bec0bede",
   "metadata": {},
   "outputs": [
    {
     "data": {
      "text/plain": [
       "0"
      ]
     },
     "execution_count": 68,
     "metadata": {},
     "output_type": "execute_result"
    }
   ],
   "source": [
    "6%2   ## Remainder"
   ]
  },
  {
   "cell_type": "code",
   "execution_count": 82,
   "id": "a33a7a7a",
   "metadata": {},
   "outputs": [],
   "source": [
    "if False:      ### If the condition is met\n",
    "    print(\"Condition is True\")"
   ]
  },
  {
   "cell_type": "code",
   "execution_count": 83,
   "id": "943260b1",
   "metadata": {},
   "outputs": [],
   "source": [
    "a = 10\n",
    "b = 20"
   ]
  },
  {
   "cell_type": "code",
   "execution_count": 85,
   "id": "81576753",
   "metadata": {},
   "outputs": [
    {
     "name": "stdout",
     "output_type": "stream",
     "text": [
      "Not greater\n"
     ]
    }
   ],
   "source": [
    "if a > b:\n",
    "    print(\"Greater\")\n",
    "else:\n",
    "    print(\"Not greater\")"
   ]
  },
  {
   "cell_type": "code",
   "execution_count": 73,
   "id": "d40a7b4a",
   "metadata": {
    "collapsed": true
   },
   "outputs": [
    {
     "ename": "IndentationError",
     "evalue": "expected an indented block (<ipython-input-73-8d060962dcec>, line 4)",
     "output_type": "error",
     "traceback": [
      "\u001b[1;36m  File \u001b[1;32m\"<ipython-input-73-8d060962dcec>\"\u001b[1;36m, line \u001b[1;32m4\u001b[0m\n\u001b[1;33m    print(i)\u001b[0m\n\u001b[1;37m    ^\u001b[0m\n\u001b[1;31mIndentationError\u001b[0m\u001b[1;31m:\u001b[0m expected an indented block\n"
     ]
    }
   ],
   "source": [
    "###2. Can you write a program to display only even numbers\n",
    "for i in n:\n",
    "    if(i%2==0):\n",
    "    print(i)"
   ]
  },
  {
   "cell_type": "code",
   "execution_count": null,
   "id": "acf82628",
   "metadata": {},
   "outputs": [],
   "source": [
    "#3. write a program to display elements by Index wise\n",
    "n"
   ]
  },
  {
   "cell_type": "code",
   "execution_count": 88,
   "id": "191c5884",
   "metadata": {},
   "outputs": [],
   "source": [
    "x = len(n)"
   ]
  },
  {
   "cell_type": "code",
   "execution_count": 92,
   "id": "4c62079f",
   "metadata": {},
   "outputs": [
    {
     "name": "stdout",
     "output_type": "stream",
     "text": [
      "5 0 negative index -6\n",
      "45 1 negative index -5\n",
      "25 2 negative index -4\n",
      "78 3 negative index -3\n",
      "64 4 negative index -2\n",
      "78 5 negative index -1\n"
     ]
    }
   ],
   "source": [
    "for i in range(x):\n",
    "    print(n[i], i, \"negative index\",i-x )"
   ]
  },
  {
   "cell_type": "code",
   "execution_count": 94,
   "id": "627f3594",
   "metadata": {},
   "outputs": [
    {
     "data": {
      "text/plain": [
       "range(0, 8)"
      ]
     },
     "execution_count": 94,
     "metadata": {},
     "output_type": "execute_result"
    }
   ],
   "source": [
    "range(8)"
   ]
  },
  {
   "cell_type": "code",
   "execution_count": 98,
   "id": "135245a6",
   "metadata": {},
   "outputs": [
    {
     "name": "stdout",
     "output_type": "stream",
     "text": [
      "0\n",
      "1\n",
      "2\n",
      "3\n",
      "4\n",
      "5\n",
      "6\n",
      "7\n",
      "8\n",
      "9\n"
     ]
    }
   ],
   "source": [
    "for i in range(10):\n",
    "    print(i)\n",
    "    "
   ]
  },
  {
   "cell_type": "code",
   "execution_count": 101,
   "id": "9f212521",
   "metadata": {},
   "outputs": [
    {
     "name": "stdout",
     "output_type": "stream",
     "text": [
      "10\n",
      "11\n",
      "12\n",
      "13\n",
      "14\n",
      "15\n",
      "16\n",
      "17\n",
      "18\n",
      "19\n"
     ]
    }
   ],
   "source": [
    "for i in range(10,20):\n",
    "    print(i)"
   ]
  },
  {
   "cell_type": "code",
   "execution_count": null,
   "id": "ae89848b",
   "metadata": {},
   "outputs": [],
   "source": [
    "### Some Important Functionalities of list\n",
    "len()"
   ]
  },
  {
   "cell_type": "code",
   "execution_count": null,
   "id": "b5b01a2e",
   "metadata": {},
   "outputs": [],
   "source": [
    "count()\n",
    "It return the number of specified item occurance in the list"
   ]
  },
  {
   "cell_type": "code",
   "execution_count": 102,
   "id": "6723d83d",
   "metadata": {
    "collapsed": true
   },
   "outputs": [
    {
     "ename": "AttributeError",
     "evalue": "'list' object has no attribute 'appentd'",
     "output_type": "error",
     "traceback": [
      "\u001b[1;31m---------------------------------------------------------------------------\u001b[0m",
      "\u001b[1;31mAttributeError\u001b[0m                            Traceback (most recent call last)",
      "\u001b[1;32m<ipython-input-102-a6fb865779e8>\u001b[0m in \u001b[0;36m<module>\u001b[1;34m\u001b[0m\n\u001b[1;32m----> 1\u001b[1;33m \u001b[0mn\u001b[0m\u001b[1;33m.\u001b[0m\u001b[0mappentd\u001b[0m\u001b[1;33m(\u001b[0m\u001b[1;36m5\u001b[0m\u001b[1;33m)\u001b[0m\u001b[1;33m\u001b[0m\u001b[1;33m\u001b[0m\u001b[0m\n\u001b[0m",
      "\u001b[1;31mAttributeError\u001b[0m: 'list' object has no attribute 'appentd'"
     ]
    }
   ],
   "source": [
    "n.appentd(5)"
   ]
  },
  {
   "cell_type": "code",
   "execution_count": 103,
   "id": "2ee8f12b",
   "metadata": {},
   "outputs": [
    {
     "data": {
      "text/plain": [
       "[5, 45, 25, 78, 64, 78]"
      ]
     },
     "execution_count": 103,
     "metadata": {},
     "output_type": "execute_result"
    }
   ],
   "source": [
    "n"
   ]
  },
  {
   "cell_type": "code",
   "execution_count": 104,
   "id": "50ffe7e2",
   "metadata": {},
   "outputs": [
    {
     "data": {
      "text/plain": [
       "0"
      ]
     },
     "execution_count": 104,
     "metadata": {},
     "output_type": "execute_result"
    }
   ],
   "source": [
    "n.count(6)"
   ]
  },
  {
   "cell_type": "code",
   "execution_count": null,
   "id": "0e9dcd99",
   "metadata": {},
   "outputs": [],
   "source": [
    "3. Index()\n",
    "Return the index of the occurance "
   ]
  },
  {
   "cell_type": "code",
   "execution_count": 109,
   "id": "092350d2",
   "metadata": {},
   "outputs": [
    {
     "data": {
      "text/plain": [
       "2"
      ]
     },
     "execution_count": 109,
     "metadata": {},
     "output_type": "execute_result"
    }
   ],
   "source": [
    "n.index(25)"
   ]
  },
  {
   "cell_type": "code",
   "execution_count": 110,
   "id": "d46ee9bb",
   "metadata": {},
   "outputs": [
    {
     "name": "stdout",
     "output_type": "stream",
     "text": [
      "True\n"
     ]
    }
   ],
   "source": [
    "print(78 in n)"
   ]
  },
  {
   "cell_type": "code",
   "execution_count": null,
   "id": "315eed7c",
   "metadata": {},
   "outputs": [],
   "source": [
    "#### Manupulating the element of the list\n",
    "\n",
    "1. Append (append())"
   ]
  },
  {
   "cell_type": "code",
   "execution_count": 112,
   "id": "9904a636",
   "metadata": {},
   "outputs": [],
   "source": [
    "l = []"
   ]
  },
  {
   "cell_type": "code",
   "execution_count": 113,
   "id": "b6bcd94c",
   "metadata": {},
   "outputs": [
    {
     "data": {
      "text/plain": [
       "[]"
      ]
     },
     "execution_count": 113,
     "metadata": {},
     "output_type": "execute_result"
    }
   ],
   "source": [
    "l"
   ]
  },
  {
   "cell_type": "code",
   "execution_count": 116,
   "id": "9d323be2",
   "metadata": {},
   "outputs": [
    {
     "data": {
      "text/plain": [
       "['Nitish', 'KUKU', 'Golu', 'Nitish', 'KUKU', 'Golu', 'Nitish', 'KUKU', 'Golu']"
      ]
     },
     "execution_count": 116,
     "metadata": {},
     "output_type": "execute_result"
    }
   ],
   "source": [
    "l.append(\"Nitish\")\n",
    "l.append(\"KUKU\")\n",
    "l.append(\"Golu\")\n",
    "l"
   ]
  },
  {
   "cell_type": "code",
   "execution_count": 127,
   "id": "cc69d399",
   "metadata": {},
   "outputs": [],
   "source": [
    "### Write a program to all the element to list upto 100 which are divisible by 10\n",
    "Div10 =[]\n",
    "for i in range(101):\n",
    "    if i%10==0:\n",
    "        Div10.append(i)\n",
    "    #print(i)"
   ]
  },
  {
   "cell_type": "code",
   "execution_count": 128,
   "id": "55229bb1",
   "metadata": {},
   "outputs": [
    {
     "name": "stdout",
     "output_type": "stream",
     "text": [
      "[0, 10, 20, 30, 40, 50, 60, 70, 80, 90, 100]\n"
     ]
    }
   ],
   "source": [
    "print(Div10)"
   ]
  },
  {
   "cell_type": "code",
   "execution_count": 131,
   "id": "c522ee3c",
   "metadata": {},
   "outputs": [],
   "source": [
    "l= [55,58]"
   ]
  },
  {
   "cell_type": "code",
   "execution_count": 132,
   "id": "c307879d",
   "metadata": {},
   "outputs": [],
   "source": [
    "l.extend(n)"
   ]
  },
  {
   "cell_type": "code",
   "execution_count": 130,
   "id": "a4974420",
   "metadata": {},
   "outputs": [
    {
     "data": {
      "text/plain": [
       "['Nitish',\n",
       " 'KUKU',\n",
       " 'Golu',\n",
       " 'Nitish',\n",
       " 'KUKU',\n",
       " 'Golu',\n",
       " 'Nitish',\n",
       " 'KUKU',\n",
       " 'Golu',\n",
       " 5,\n",
       " 45,\n",
       " 25,\n",
       " 78,\n",
       " 64,\n",
       " 78]"
      ]
     },
     "execution_count": 130,
     "metadata": {},
     "output_type": "execute_result"
    }
   ],
   "source": [
    "l"
   ]
  },
  {
   "cell_type": "code",
   "execution_count": null,
   "id": "ee24f237",
   "metadata": {},
   "outputs": [],
   "source": [
    "### Remove Unction"
   ]
  },
  {
   "cell_type": "code",
   "execution_count": 133,
   "id": "9dc5341b",
   "metadata": {},
   "outputs": [],
   "source": [
    "n.remove(78)"
   ]
  },
  {
   "cell_type": "code",
   "execution_count": 134,
   "id": "ff593123",
   "metadata": {},
   "outputs": [
    {
     "data": {
      "text/plain": [
       "[5, 45, 25, 64, 78]"
      ]
     },
     "execution_count": 134,
     "metadata": {},
     "output_type": "execute_result"
    }
   ],
   "source": [
    "n"
   ]
  },
  {
   "cell_type": "code",
   "execution_count": 135,
   "id": "daa1f469",
   "metadata": {},
   "outputs": [
    {
     "data": {
      "text/plain": [
       "78"
      ]
     },
     "execution_count": 135,
     "metadata": {},
     "output_type": "execute_result"
    }
   ],
   "source": [
    "### Pop\n",
    "### it removes and also return the last elementlist\n",
    "n.pop()"
   ]
  },
  {
   "cell_type": "code",
   "execution_count": 139,
   "id": "342b4a58",
   "metadata": {},
   "outputs": [
    {
     "data": {
      "text/plain": [
       "[5, 45]"
      ]
     },
     "execution_count": 139,
     "metadata": {},
     "output_type": "execute_result"
    }
   ],
   "source": [
    "n.pop(2)\n",
    "n"
   ]
  },
  {
   "cell_type": "code",
   "execution_count": null,
   "id": "849dbabf",
   "metadata": {},
   "outputs": [],
   "source": [
    "#### Ordering element list "
   ]
  },
  {
   "cell_type": "code",
   "execution_count": 140,
   "id": "d6673509",
   "metadata": {},
   "outputs": [
    {
     "data": {
      "text/plain": [
       "[45, 5]"
      ]
     },
     "execution_count": 140,
     "metadata": {},
     "output_type": "execute_result"
    }
   ],
   "source": [
    "#### reverse()\n",
    "n.reverse()\n",
    "n"
   ]
  },
  {
   "cell_type": "code",
   "execution_count": 141,
   "id": "9689d4a2",
   "metadata": {},
   "outputs": [
    {
     "name": "stdout",
     "output_type": "stream",
     "text": [
      "[25, 46, 49, 65, 79, 85]\n"
     ]
    }
   ],
   "source": [
    "#### Sort \n",
    "a = [25,85,46,79,65,49]\n",
    "a.sort()\n",
    "print(a)"
   ]
  },
  {
   "cell_type": "code",
   "execution_count": 143,
   "id": "a1dabe39",
   "metadata": {},
   "outputs": [
    {
     "name": "stdout",
     "output_type": "stream",
     "text": [
      "['priya', 'praveen', 'Neha']\n"
     ]
    }
   ],
   "source": [
    "s = [\"priya\",\"Neha\",\"praveen\"]\n",
    "s.sort(reverse = True)\n",
    "print(s)"
   ]
  },
  {
   "cell_type": "code",
   "execution_count": 144,
   "id": "b6d969a9",
   "metadata": {},
   "outputs": [
    {
     "name": "stdout",
     "output_type": "stream",
     "text": [
      "['priya', 'praveen', 'Neha']\n"
     ]
    }
   ],
   "source": [
    "## Copy\n",
    "s1 = s.copy()\n",
    "print(s1)"
   ]
  },
  {
   "cell_type": "code",
   "execution_count": null,
   "id": "47f380f2",
   "metadata": {},
   "outputs": [],
   "source": [
    "### Mathematical Operator in list\n",
    "* to concatenate two list"
   ]
  },
  {
   "cell_type": "code",
   "execution_count": 145,
   "id": "528cb9e0",
   "metadata": {},
   "outputs": [
    {
     "name": "stdout",
     "output_type": "stream",
     "text": [
      "[20, 30, 40, 50, 60, 70, 90, 80, 100]\n"
     ]
    }
   ],
   "source": [
    "a = [20,30,40,50,60]\n",
    "b = [70,90,80,100]\n",
    "c= a+b\n",
    "print(c)\n",
    "### Note Both should be list object"
   ]
  },
  {
   "cell_type": "code",
   "execution_count": 146,
   "id": "26abf051",
   "metadata": {},
   "outputs": [
    {
     "name": "stdout",
     "output_type": "stream",
     "text": [
      "[20, 30, 40, 50, 60, 20, 30, 40, 50, 60, 20, 30, 40, 50, 60]\n"
     ]
    }
   ],
   "source": [
    "y = a*3\n",
    "print(y)"
   ]
  },
  {
   "cell_type": "code",
   "execution_count": 148,
   "id": "3f5b2d1a",
   "metadata": {},
   "outputs": [],
   "source": [
    "### Comparision Operators\n",
    "s = [\"Kuku\", \"kavitha\", \"apple\"]\n",
    "s1 = [\"supriya\", \"amit\", \"didi\"]"
   ]
  },
  {
   "cell_type": "code",
   "execution_count": 149,
   "id": "21629908",
   "metadata": {},
   "outputs": [
    {
     "name": "stdout",
     "output_type": "stream",
     "text": [
      "False\n"
     ]
    }
   ],
   "source": [
    "print(s==s1)"
   ]
  },
  {
   "cell_type": "code",
   "execution_count": 151,
   "id": "158fe1fe",
   "metadata": {},
   "outputs": [
    {
     "name": "stdout",
     "output_type": "stream",
     "text": [
      "True\n"
     ]
    }
   ],
   "source": [
    "print(s!=s1)"
   ]
  },
  {
   "cell_type": "code",
   "execution_count": null,
   "id": "78e72dd5",
   "metadata": {},
   "outputs": [],
   "source": [
    "### Note a comparision\n",
    "whenever we are using comparision operators (==, !=) or list objects then this should be considered\n",
    "1. The number of elements \n",
    "2. The order of elements\n",
    "3. The contents of the elements(case sensetive)"
   ]
  },
  {
   "cell_type": "code",
   "execution_count": 152,
   "id": "fcf5961a",
   "metadata": {
    "collapsed": true
   },
   "outputs": [
    {
     "ename": "SyntaxError",
     "evalue": "invalid syntax (<ipython-input-152-e09cb7eb981d>, line 3)",
     "output_type": "error",
     "traceback": [
      "\u001b[1;36m  File \u001b[1;32m\"<ipython-input-152-e09cb7eb981d>\"\u001b[1;36m, line \u001b[1;32m3\u001b[0m\n\u001b[1;33m    Not in\u001b[0m\n\u001b[1;37m          ^\u001b[0m\n\u001b[1;31mSyntaxError\u001b[0m\u001b[1;31m:\u001b[0m invalid syntax\n"
     ]
    }
   ],
   "source": [
    "### Membership Operator\n",
    "In\n",
    "Not in"
   ]
  },
  {
   "cell_type": "code",
   "execution_count": 153,
   "id": "c8a16c3e",
   "metadata": {},
   "outputs": [
    {
     "name": "stdout",
     "output_type": "stream",
     "text": [
      "True\n"
     ]
    }
   ],
   "source": [
    "n = [10,50,46,59,45]\n",
    "print(10 in n) "
   ]
  },
  {
   "cell_type": "code",
   "execution_count": 154,
   "id": "0dc472b1",
   "metadata": {},
   "outputs": [
    {
     "name": "stdout",
     "output_type": "stream",
     "text": [
      "False\n"
     ]
    }
   ],
   "source": [
    "print(50 not in n)"
   ]
  },
  {
   "cell_type": "code",
   "execution_count": 155,
   "id": "8fb19167",
   "metadata": {},
   "outputs": [
    {
     "data": {
      "text/plain": [
       "[10, 50, 46, 59, 45]"
      ]
     },
     "execution_count": 155,
     "metadata": {},
     "output_type": "execute_result"
    }
   ],
   "source": [
    "## clear function\n",
    "n"
   ]
  },
  {
   "cell_type": "code",
   "execution_count": 156,
   "id": "8937af1d",
   "metadata": {},
   "outputs": [],
   "source": [
    "n.clear()"
   ]
  },
  {
   "cell_type": "code",
   "execution_count": 157,
   "id": "170dcd1e",
   "metadata": {},
   "outputs": [
    {
     "data": {
      "text/plain": [
       "[]"
      ]
     },
     "execution_count": 157,
     "metadata": {},
     "output_type": "execute_result"
    }
   ],
   "source": [
    "n"
   ]
  },
  {
   "cell_type": "code",
   "execution_count": 161,
   "id": "942282c0",
   "metadata": {},
   "outputs": [
    {
     "data": {
      "text/plain": [
       "[15, 45, [67, 82], 56]"
      ]
     },
     "execution_count": 161,
     "metadata": {},
     "output_type": "execute_result"
    }
   ],
   "source": [
    "#### Nested lists\n",
    "n = [15,45,[67,82],56]\n",
    "n    "
   ]
  },
  {
   "cell_type": "code",
   "execution_count": 164,
   "id": "b295621d",
   "metadata": {},
   "outputs": [
    {
     "data": {
      "text/plain": [
       "[46, 456, 789, [258, 'Nitish']]"
      ]
     },
     "execution_count": 164,
     "metadata": {},
     "output_type": "execute_result"
    }
   ],
   "source": [
    "[46,456,789,[258, 'Nitish']]"
   ]
  },
  {
   "cell_type": "code",
   "execution_count": 165,
   "id": "222d681a",
   "metadata": {},
   "outputs": [
    {
     "data": {
      "text/plain": [
       "82"
      ]
     },
     "execution_count": 165,
     "metadata": {},
     "output_type": "execute_result"
    }
   ],
   "source": [
    "n[2][1]"
   ]
  },
  {
   "cell_type": "code",
   "execution_count": null,
   "id": "e7b589c3",
   "metadata": {},
   "outputs": [],
   "source": [
    "#### Tuple data structure"
   ]
  },
  {
   "cell_type": "code",
   "execution_count": 166,
   "id": "ef43eef4",
   "metadata": {
    "collapsed": true
   },
   "outputs": [
    {
     "ename": "SyntaxError",
     "evalue": "invalid syntax (<ipython-input-166-50dbd068f28f>, line 2)",
     "output_type": "error",
     "traceback": [
      "\u001b[1;36m  File \u001b[1;32m\"<ipython-input-166-50dbd068f28f>\"\u001b[1;36m, line \u001b[1;32m2\u001b[0m\n\u001b[1;33m    Once we create tuple object we cannot change\u001b[0m\n\u001b[1;37m         ^\u001b[0m\n\u001b[1;31mSyntaxError\u001b[0m\u001b[1;31m:\u001b[0m invalid syntax\n"
     ]
    }
   ],
   "source": [
    "### Tuple is exactly same as list, expectit is immutabe.\n",
    "Once we create tuple object we cannot change \n",
    "()"
   ]
  },
  {
   "cell_type": "code",
   "execution_count": 167,
   "id": "22f39dd0",
   "metadata": {},
   "outputs": [
    {
     "data": {
      "text/plain": [
       "((), tuple)"
      ]
     },
     "execution_count": 167,
     "metadata": {},
     "output_type": "execute_result"
    }
   ],
   "source": [
    "t = ()\n",
    "t, type(t)"
   ]
  },
  {
   "cell_type": "code",
   "execution_count": 168,
   "id": "aa9afb50",
   "metadata": {},
   "outputs": [
    {
     "data": {
      "text/plain": [
       "(5, 4, 3, 2, 1)"
      ]
     },
     "execution_count": 168,
     "metadata": {},
     "output_type": "execute_result"
    }
   ],
   "source": [
    "t = 5,4,3,2,1\n",
    "t"
   ]
  },
  {
   "cell_type": "code",
   "execution_count": 171,
   "id": "48229d8d",
   "metadata": {
    "collapsed": true
   },
   "outputs": [
    {
     "ename": "TypeError",
     "evalue": "'tuple' object does not support item assignment",
     "output_type": "error",
     "traceback": [
      "\u001b[1;31m---------------------------------------------------------------------------\u001b[0m",
      "\u001b[1;31mTypeError\u001b[0m                                 Traceback (most recent call last)",
      "\u001b[1;32m<ipython-input-171-e6cf7836e708>\u001b[0m in \u001b[0;36m<module>\u001b[1;34m\u001b[0m\n\u001b[1;32m----> 1\u001b[1;33m \u001b[0mt\u001b[0m\u001b[1;33m[\u001b[0m\u001b[1;36m0\u001b[0m\u001b[1;33m]\u001b[0m \u001b[1;33m=\u001b[0m \u001b[1;36m100\u001b[0m\u001b[1;33m\u001b[0m\u001b[1;33m\u001b[0m\u001b[0m\n\u001b[0m",
      "\u001b[1;31mTypeError\u001b[0m: 'tuple' object does not support item assignment"
     ]
    }
   ],
   "source": [
    "t[0] = 100"
   ]
  },
  {
   "cell_type": "code",
   "execution_count": null,
   "id": "646e2a2f",
   "metadata": {},
   "outputs": [],
   "source": [
    "#### mathematical operators\n",
    "*AND*"
   ]
  },
  {
   "cell_type": "code",
   "execution_count": 172,
   "id": "764e66b6",
   "metadata": {},
   "outputs": [
    {
     "data": {
      "text/plain": [
       "(45, 50, 60)"
      ]
     },
     "execution_count": 172,
     "metadata": {},
     "output_type": "execute_result"
    }
   ],
   "source": [
    "t1 = (10,20,30)\n",
    "t2 = (45,50,60)\n",
    "\n",
    "t3 = t1+t2\n",
    "t2"
   ]
  },
  {
   "cell_type": "code",
   "execution_count": null,
   "id": "ac09bd76",
   "metadata": {},
   "outputs": [],
   "source": [
    "## Inbuilt function in tuple "
   ]
  },
  {
   "cell_type": "code",
   "execution_count": 173,
   "id": "59442328",
   "metadata": {},
   "outputs": [
    {
     "data": {
      "text/plain": [
       "3"
      ]
     },
     "execution_count": 173,
     "metadata": {},
     "output_type": "execute_result"
    }
   ],
   "source": [
    "len(t1)"
   ]
  },
  {
   "cell_type": "code",
   "execution_count": 174,
   "id": "9a6f859f",
   "metadata": {},
   "outputs": [
    {
     "data": {
      "text/plain": [
       "1"
      ]
     },
     "execution_count": 174,
     "metadata": {},
     "output_type": "execute_result"
    }
   ],
   "source": [
    "t1.count(10)"
   ]
  },
  {
   "cell_type": "code",
   "execution_count": null,
   "id": "a3a46e8b",
   "metadata": {},
   "outputs": [],
   "source": [
    "index()\n",
    "## It will return the 1st index of the accurance"
   ]
  },
  {
   "cell_type": "code",
   "execution_count": 175,
   "id": "2e1e5f17",
   "metadata": {},
   "outputs": [
    {
     "data": {
      "text/plain": [
       "(10, 50, 55, 48, 65, 79)"
      ]
     },
     "execution_count": 175,
     "metadata": {},
     "output_type": "execute_result"
    }
   ],
   "source": [
    "t = (10,50,55,48,65,79)\n",
    "t"
   ]
  },
  {
   "cell_type": "code",
   "execution_count": 176,
   "id": "ed609a7d",
   "metadata": {
    "collapsed": true
   },
   "outputs": [
    {
     "ename": "AttributeError",
     "evalue": "'tuple' object has no attribute 'sorted'",
     "output_type": "error",
     "traceback": [
      "\u001b[1;31m---------------------------------------------------------------------------\u001b[0m",
      "\u001b[1;31mAttributeError\u001b[0m                            Traceback (most recent call last)",
      "\u001b[1;32m<ipython-input-176-8707dc1ea1b2>\u001b[0m in \u001b[0;36m<module>\u001b[1;34m\u001b[0m\n\u001b[1;32m----> 1\u001b[1;33m \u001b[0mt\u001b[0m\u001b[1;33m.\u001b[0m\u001b[0msorted\u001b[0m\u001b[1;33m(\u001b[0m\u001b[1;33m)\u001b[0m\u001b[1;33m\u001b[0m\u001b[1;33m\u001b[0m\u001b[0m\n\u001b[0m",
      "\u001b[1;31mAttributeError\u001b[0m: 'tuple' object has no attribute 'sorted'"
     ]
    }
   ],
   "source": [
    "t.sorted()"
   ]
  },
  {
   "cell_type": "code",
   "execution_count": null,
   "id": "fd570fd5",
   "metadata": {},
   "outputs": [],
   "source": [
    "min and max"
   ]
  },
  {
   "cell_type": "code",
   "execution_count": 177,
   "id": "bcf39fe7",
   "metadata": {},
   "outputs": [
    {
     "data": {
      "text/plain": [
       "10"
      ]
     },
     "execution_count": 177,
     "metadata": {},
     "output_type": "execute_result"
    }
   ],
   "source": [
    "min(t)"
   ]
  },
  {
   "cell_type": "code",
   "execution_count": 178,
   "id": "3c08cee9",
   "metadata": {},
   "outputs": [
    {
     "data": {
      "text/plain": [
       "79"
      ]
     },
     "execution_count": 178,
     "metadata": {},
     "output_type": "execute_result"
    }
   ],
   "source": [
    "max(t)"
   ]
  },
  {
   "cell_type": "code",
   "execution_count": 179,
   "id": "f246dfd1",
   "metadata": {},
   "outputs": [
    {
     "data": {
      "text/plain": [
       "[0]"
      ]
     },
     "execution_count": 179,
     "metadata": {},
     "output_type": "execute_result"
    }
   ],
   "source": [
    "list(range(0,19,45))"
   ]
  },
  {
   "cell_type": "code",
   "execution_count": 180,
   "id": "e033e022",
   "metadata": {},
   "outputs": [
    {
     "data": {
      "text/plain": [
       "[10, 50, 55, 48, 65, 79]"
      ]
     },
     "execution_count": 180,
     "metadata": {},
     "output_type": "execute_result"
    }
   ],
   "source": [
    "list(t)"
   ]
  },
  {
   "cell_type": "code",
   "execution_count": null,
   "id": "af84270f",
   "metadata": {},
   "outputs": [],
   "source": []
  }
 ],
 "metadata": {
  "kernelspec": {
   "display_name": "Python 3",
   "language": "python",
   "name": "python3"
  },
  "language_info": {
   "codemirror_mode": {
    "name": "ipython",
    "version": 3
   },
   "file_extension": ".py",
   "mimetype": "text/x-python",
   "name": "python",
   "nbconvert_exporter": "python",
   "pygments_lexer": "ipython3",
   "version": "3.8.8"
  }
 },
 "nbformat": 4,
 "nbformat_minor": 5
}
